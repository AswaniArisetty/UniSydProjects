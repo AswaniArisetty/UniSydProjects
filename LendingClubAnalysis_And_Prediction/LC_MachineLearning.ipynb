{
 "cells": [
  {
   "cell_type": "code",
   "execution_count": 1,
   "metadata": {
    "collapsed": true
   },
   "outputs": [],
   "source": [
    "import pandas as pd\n",
    "import os\n",
    "import glob\n",
    "import matplotlib\n",
    "import matplotlib.pyplot as plt\n",
    "import numpy as np\n",
    "\n",
    "%matplotlib inline\n",
    "matplotlib.style.use('ggplot')\n",
    "\n",
    "pd.options.display.float_format = '{:,.2f}'.format\n",
    "\n"
   ]
  },
  {
   "cell_type": "code",
   "execution_count": 2,
   "metadata": {
    "collapsed": true
   },
   "outputs": [],
   "source": [
    "# Load the file and filter where loan_status is current. \n",
    "#As we intend to use this for predicting bad loans, we use fully_paid and others that indicate defaulting\n",
    "def load_file(f):\n",
    "    df=pd.read_csv(f,header=0,skiprows=1,low_memory=False)\n",
    "    df=df[df.loan_status!='Current']\n",
    "    return df"
   ]
  },
  {
   "cell_type": "code",
   "execution_count": 3,
   "metadata": {
    "collapsed": false
   },
   "outputs": [
    {
     "name": "stdout",
     "output_type": "stream",
     "text": [
      "loaded loan data files\n",
      "(589614, 111)\n"
     ]
    }
   ],
   "source": [
    "# Load loan data files\n",
    "path=r'C:\\UniSyd\\DataScience\\LendingClub\\LoanData'\n",
    "all_files = glob.glob(os.path.join(path, \"*.csv\")) \n",
    "loan_data=pd.concat((load_file(f) for f in all_files), ignore_index=True)\n",
    "print (\"loaded loan data files\")\n",
    "print (loan_data.shape)"
   ]
  },
  {
   "cell_type": "markdown",
   "metadata": {},
   "source": [
    "Remove Summary lines in each file. Also drop id and member_id columns that does not have any significant data in them ."
   ]
  },
  {
   "cell_type": "code",
   "execution_count": 4,
   "metadata": {
    "collapsed": false
   },
   "outputs": [
    {
     "name": "stdout",
     "output_type": "stream",
     "text": [
      "(589597, 109)\n"
     ]
    }
   ],
   "source": [
    "loan_data.drop(loan_data[loan_data.id.str.contains('Total|Loans',na=False)==True].index,inplace=True)\n",
    "\n",
    "loan_data.drop('id',axis=1,inplace=True)\n",
    "loan_data.drop('member_id',axis=1,inplace=True)\n",
    "print (loan_data.shape)"
   ]
  },
  {
   "cell_type": "markdown",
   "metadata": {},
   "source": [
    "Convert the issue_d from string to a date type and extract the year from it as we are interested in year alone."
   ]
  },
  {
   "cell_type": "code",
   "execution_count": 5,
   "metadata": {
    "collapsed": true
   },
   "outputs": [],
   "source": [
    "loan_data['issue_d']=pd.to_datetime(loan_data['issue_d'],format='%b-%Y')\n",
    "loan_data['issue_d']=loan_data['issue_d'].dt.year"
   ]
  },
  {
   "cell_type": "code",
   "execution_count": 6,
   "metadata": {
    "collapsed": false
   },
   "outputs": [
    {
     "data": {
      "text/plain": [
       "array([2011, 2010, 2009, 2008, 2007, 2013, 2012, 2014, 2015, 2016], dtype=int64)"
      ]
     },
     "execution_count": 6,
     "metadata": {},
     "output_type": "execute_result"
    }
   ],
   "source": [
    "loan_data.issue_d.unique()"
   ]
  },
  {
   "cell_type": "code",
   "execution_count": 7,
   "metadata": {
    "collapsed": false
   },
   "outputs": [
    {
     "data": {
      "text/plain": [
       "dtype('int64')"
      ]
     },
     "execution_count": 7,
     "metadata": {},
     "output_type": "execute_result"
    }
   ],
   "source": [
    "loan_data[loan_data['issue_d'].isnull()]\n",
    "loan_data[loan_data['issue_d']==0]\n",
    "loan_data['issue_d'].dtype"
   ]
  },
  {
   "cell_type": "code",
   "execution_count": 8,
   "metadata": {
    "collapsed": true
   },
   "outputs": [],
   "source": [
    "loan_data['chargeoff_within_12_mths'].fillna(0,inplace=True)\n",
    "loan_data.chargeoff_within_12_mths=loan_data['chargeoff_within_12_mths'].astype(int)"
   ]
  },
  {
   "cell_type": "markdown",
   "metadata": {},
   "source": [
    "##### We are interested in finding the default status . Hence we use 1 for all status that indicate loan defaults and 0 for the fully paid status."
   ]
  },
  {
   "cell_type": "code",
   "execution_count": 9,
   "metadata": {
    "collapsed": false
   },
   "outputs": [
    {
     "data": {
      "text/plain": [
       "array([0, 1], dtype=int64)"
      ]
     },
     "execution_count": 9,
     "metadata": {},
     "output_type": "execute_result"
    }
   ],
   "source": [
    "loan_data.loan_status.unique()\n",
    "status_map={'Fully Paid':0, 'Charged Off':1, 'Late (31-120 days)':1,\n",
    "       'Does not meet the credit policy. Status:Fully Paid':0,\n",
    "       'Does not meet the credit policy. Status:Charged Off':1,\n",
    "       'Late (16-30 days)':1, 'In Grace Period':1, 'Default':1}\n",
    "loan_data['loan_status']=loan_data['loan_status'].map(lambda x: status_map[x])\n",
    "loan_data.loan_status.unique()"
   ]
  },
  {
   "cell_type": "code",
   "execution_count": 10,
   "metadata": {
    "collapsed": false
   },
   "outputs": [],
   "source": [
    "loan_data['prnc_charged_off']=(loan_data['loan_status'])*(loan_data['funded_amnt']-loan_data['total_pymnt'])\n",
    "risky_by_year=loan_data[loan_data.loan_status==1][['issue_d','prnc_charged_off','funded_amnt','total_pymnt']].groupby('issue_d').agg({'prnc_charged_off':'sum','total_pymnt':'sum','funded_amnt':'count'})\n",
    "\n",
    "risky_by_grade=loan_data[loan_data.loan_status==1][['issue_d','prnc_charged_off','funded_amnt','total_pymnt','grade']].groupby('grade').agg({'prnc_charged_off':'sum','total_pymnt':'sum','funded_amnt':'count'})\n"
   ]
  },
  {
   "cell_type": "code",
   "execution_count": 11,
   "metadata": {
    "collapsed": false
   },
   "outputs": [
    {
     "data": {
      "image/png": "[encoded data removed]",
      "text/plain": [
       "<matplotlib.figure.Figure at 0x1fe89fb04a8>"
      ]
     },
     "metadata": {},
     "output_type": "display_data"
    }
   ],
   "source": [
    "fig2,axs2=plt.subplots(ncols=2 ,figsize=(12, 4))\n",
    "risky_by_grade['prnc_charged_off'].plot(kind='bar',title='Amount Charged Off(per Grade) ',ax=axs2[0],color='b')\n",
    "axs2[0].set_xlabel('Loan Grade')\n",
    "risky_by_year.loc[2010:2017]['prnc_charged_off'].plot(kind='line',title='Amounts Charged Off (Every year)',ax=axs2[1],color='b')\n",
    "axs2[1].set_xlabel('Years')\n",
    "fig2.savefig('ChargedOff.jpg')"
   ]
  },
  {
   "cell_type": "code",
   "execution_count": 12,
   "metadata": {
    "collapsed": false
   },
   "outputs": [
    {
     "data": {
      "text/html": [
       "<div>\n",
       "<table border=\"1\" class=\"dataframe\">\n",
       "  <thead>\n",
       "    <tr style=\"text-align: right;\">\n",
       "      <th></th>\n",
       "      <th>funded_amnt</th>\n",
       "    </tr>\n",
       "    <tr>\n",
       "      <th>loan_status</th>\n",
       "      <th></th>\n",
       "    </tr>\n",
       "  </thead>\n",
       "  <tbody>\n",
       "    <tr>\n",
       "      <th>0</th>\n",
       "      <td>0.7525</td>\n",
       "    </tr>\n",
       "    <tr>\n",
       "      <th>1</th>\n",
       "      <td>0.2475</td>\n",
       "    </tr>\n",
       "  </tbody>\n",
       "</table>\n",
       "</div>"
      ],
      "text/plain": [
       "             funded_amnt\n",
       "loan_status             \n",
       "0                 0.7525\n",
       "1                 0.2475"
      ]
     },
     "execution_count": 12,
     "metadata": {},
     "output_type": "execute_result"
    },
    {
     "data": {
      "image/png": "[encoded data removed]",
      "text/plain": [
       "<matplotlib.figure.Figure at 0x1fe81cbd4a8>"
      ]
     },
     "metadata": {},
     "output_type": "display_data"
    }
   ],
   "source": [
    "fig,axs=plt.subplots(ncols=1,figsize=(6, 4))\n",
    "pd.options.display.float_format = '{:,.4f}'.format\n",
    "loan_statuses=loan_data[['funded_amnt','loan_status']]\\\n",
    "                        .groupby('loan_status').agg({'funded_amnt':'count'})\n",
    "loan_statuses.plot(kind='bar',ax=axs,color='b',title='Loan status distribution',width=0.25)\n",
    "axs.set_xlabel('Loan Status')\n",
    "axs.set_xticklabels(['Good','Bad'])\n",
    "fig.savefig(\"LoanStatusDistribution.jpg\")\n",
    "\n",
    "loan_statuses/loan_data.shape[0]"
   ]
  },
  {
   "cell_type": "code",
   "execution_count": 13,
   "metadata": {
    "collapsed": true
   },
   "outputs": [],
   "source": [
    "loan_data['int_rate']=pd.Series(loan_data.int_rate).str.replace('%', '').astype(float)"
   ]
  },
  {
   "cell_type": "code",
   "execution_count": 14,
   "metadata": {
    "collapsed": false
   },
   "outputs": [
    {
     "data": {
      "text/plain": [
       "array([29, 23, 21, 25, 26, 32, 15,  9, 30, 20, 35, 28, 27, 24, 19, 33, 31,\n",
       "       16, 34, 12, 18, 17,  8, 13,  7, 10, 11,  2, 14,  3,  4,  5,  6,  1], dtype=int64)"
      ]
     },
     "execution_count": 14,
     "metadata": {},
     "output_type": "execute_result"
    }
   ],
   "source": [
    "loan_data['grade_enc']=loan_data.grade.map({'A':7,'B':6,'C':5,'D':4,'E':3,'F':2,'G':1})\n",
    "loan_data.sub_grade.unique()\n",
    "\n",
    "sub_grade_map={'A1':35,'A2':34,'A3':33,'A4':32,'A5':31,\n",
    "              'B1':30,'B2':29,'B3':28,'B4':27,'B5':26,\n",
    "              'C1':25,'C2':24,'C3':23,'C4':23,'C5':21,\n",
    "              'D1':20,'D2':19,'D3':18,'D4':17,'D5':16,\n",
    "              'E1':15,'E2':14,'E3':13,'E4':12,'E5':11,\n",
    "              'F1':10,'F2':9,'F3':8,'F4':7,'F5':6,\n",
    "              'G1':5,'G2':4,'G3':3,'G4':2,'G5':1\n",
    "              }\n",
    "loan_data['sub_grad_enc']=loan_data.sub_grade.map(sub_grade_map)\n",
    "loan_data['sub_grad_enc'].unique()"
   ]
  },
  {
   "cell_type": "code",
   "execution_count": 15,
   "metadata": {
    "collapsed": false
   },
   "outputs": [
    {
     "data": {
      "text/plain": [
       "array([10,  1,  3,  8,  9,  4,  5,  6,  2,  7,  0], dtype=int64)"
      ]
     },
     "execution_count": 15,
     "metadata": {},
     "output_type": "execute_result"
    }
   ],
   "source": [
    "loan_data['emp_length']=loan_data['emp_length'].str.replace('year|\\+|<|s| ','')\n",
    "loan_data['emp_length']=loan_data['emp_length'].str.replace('n/a','0')\n",
    "loan_data['emp_length']=loan_data.emp_length.astype(int)\n",
    "loan_data.emp_length.unique()"
   ]
  },
  {
   "cell_type": "code",
   "execution_count": 16,
   "metadata": {
    "collapsed": false
   },
   "outputs": [],
   "source": [
    "loan_data[(loan_data.home_ownership=='NONE') & (loan_data.loan_status==0)]\n",
    "\n",
    "from sklearn import preprocessing\n",
    "lenc=preprocessing.LabelEncoder()\n",
    "\n",
    "lenc.fit(loan_data.home_ownership.unique())\n",
    "loan_data['home_own_enc']=lenc.transform(loan_data.home_ownership)\n",
    "loan_data.home_own_enc;\n"
   ]
  },
  {
   "cell_type": "code",
   "execution_count": 17,
   "metadata": {
    "collapsed": false
   },
   "outputs": [],
   "source": [
    "loan_data['own_home']=(loan_data.home_ownership=='OWN').map({True:1,False:0})\n",
    "loan_data['rent_home']=(loan_data.home_ownership=='RENT').map({True:1,False:0})\n",
    "loan_data['mort_home']=(loan_data.home_ownership=='MORTGAGE').map({True:1,False:0})"
   ]
  },
  {
   "cell_type": "code",
   "execution_count": 18,
   "metadata": {
    "collapsed": false
   },
   "outputs": [],
   "source": [
    "lenc.fit(loan_data.addr_state.unique())\n",
    "loan_data['state_enc']=lenc.transform(loan_data.addr_state)\n",
    "loan_data.state_enc;"
   ]
  },
  {
   "cell_type": "code",
   "execution_count": 19,
   "metadata": {
    "collapsed": false
   },
   "outputs": [],
   "source": [
    "loan_data['term']=loan_data.term.map({' 36 months':36,' 60 months':60});"
   ]
  },
  {
   "cell_type": "code",
   "execution_count": 20,
   "metadata": {
    "collapsed": false
   },
   "outputs": [],
   "source": [
    "#for purpose in loan_data.purpose.unique():\n",
    "#    print(purpose,loan_data[loan_data.purpose==purpose]['loan_status'].value_counts())\n",
    "loan_data['verified']=(loan_data.verification_status!='Not Verified').map({True:1,False:0})\n",
    "\n"
   ]
  },
  {
   "cell_type": "code",
   "execution_count": 21,
   "metadata": {
    "collapsed": false
   },
   "outputs": [
    {
     "data": {
      "text/plain": [
       "0    295222\n",
       "1    112371\n",
       "Name: loan_status, dtype: int64"
      ]
     },
     "execution_count": 21,
     "metadata": {},
     "output_type": "execute_result"
    }
   ],
   "source": [
    "loan_data.shape\n",
    "#labels=loan_data.loan_status.as_matrix()\n",
    "#loan_data.drop('loan_status',inplace=True,axis=1)\n",
    "\n",
    "loan_data.dtypes;\n",
    "#loan_data[loan_data['acc_now_delinq']>0]['loan_status'].value_counts()\n",
    "#loan_data[loan_data.avg_cur_bal.isnull()]['loan_status'].value_counts()\n",
    "#loan_data[loan_data.delinq_2yrs>0]['loan_status'].value_counts()\n",
    "#loan_data[(~loan_data.all_util.isnull()) & loan_data.loan_status==1]['all_util'].value_counts()\n",
    "#loan_data.all_util.value_counts()\n",
    "#loan_data.delinq_amnt.value_counts()\n",
    "#loan_data[(loan_data.dti>30) & (loan_data.dti<40)]['loan_status'].value_counts()\n",
    "#loan_data[(loan_data.inq_fi>0) & (loan_data.inq_fi <5)]['loan_status'].value_counts()\n",
    "#loan_data[loan_data.num_accts_ever_120_pd>5]['loan_status'].value_counts()\n",
    "loan_data.verification_status.unique()\n",
    "loan_data[loan_data.verification_status!='Not Verified']['loan_status'].value_counts()\n"
   ]
  },
  {
   "cell_type": "code",
   "execution_count": 74,
   "metadata": {
    "collapsed": false
   },
   "outputs": [
    {
     "name": "stdout",
     "output_type": "stream",
     "text": [
      "crossvalidation mean F1 : 0.35205151898\n"
     ]
    },
    {
     "data": {
      "text/plain": [
       "0.34833899207775781"
      ]
     },
     "execution_count": 74,
     "metadata": {},
     "output_type": "execute_result"
    }
   ],
   "source": [
    "from sklearn.tree import DecisionTreeClassifier\n",
    "from sklearn.model_selection import train_test_split\n",
    "from sklearn.model_selection import cross_val_score\n",
    "from sklearn.linear_model import LogisticRegression,SGDClassifier\n",
    "from sklearn.naive_bayes import GaussianNB\n",
    "from sklearn.preprocessing import MinMaxScaler,StandardScaler\n",
    "from sklearn.svm import LinearSVC\n",
    "from sklearn.ensemble import AdaBoostClassifier,RandomForestClassifier\n",
    "from sklearn.ensemble import ExtraTreesClassifier,GradientBoostingClassifier\n",
    "\n",
    "\n",
    "\n",
    "feature_array=['funded_amnt','acc_now_delinq','state_enc','annual_inc','chargeoff_within_12_mths'\\\n",
    "                   ,'delinq_2yrs','delinq_amnt','dti','emp_length','sub_grad_enc','inq_last_6mths','inq_last_12m'\\\n",
    "                   ,'issue_d','mort_acc','mths_since_last_delinq'\n",
    "                   ,'mths_since_last_major_derog','num_accts_ever_120_pd','pct_tl_nvr_dlq','pub_rec_bankruptcies'\\\n",
    "                   ,'term','total_acc','own_home','rent_home','mort_home','installment','inq_fi','num_sats','avg_cur_bal'\\\n",
    "                   , 'all_util','verified']\n",
    "\n",
    "for feature in feature_array:\n",
    "    loan_data[feature]=loan_data[feature].fillna(0)\n",
    "\n",
    "features=pd.concat([loan_data])[feature_array]\n",
    "labels=pd.concat([loan_data])['loan_status']\n",
    "\n",
    "\n",
    "\n",
    "scaler=StandardScaler()\n",
    "features=scaler.fit_transform(features)\n",
    "#clf=ExtraTreesClassifier(n_estimators=100)\n",
    "#clf=LogisticRegression(class_weight={1:2,0:1},max_iter=300)\n",
    "clf=AdaBoostClassifier(DecisionTreeClassifier()\n",
    "                       ,algorithm='SAMME.R'\n",
    "                       ,n_estimators=1000)\n",
    "\n",
    "features_train,features_test,labels_train,labels_test=train_test_split(features,labels,test_size=0.25,random_state=42)\n",
    "\n",
    "scores=cross_val_score(clf,features_train,labels_train,cv=5,scoring='f1')\n",
    "print ('crossvalidation mean F1 :', np.mean(scores))\n",
    "\n",
    "clf.fit(features_train,labels_train)\n",
    "from sklearn.metrics import accuracy_score,f1_score,precision_score,recall_score,make_scorer\n",
    "pred_labels=clf.predict(features_test)\n",
    "\n",
    "f1_score(labels_test,pred_labels)\n",
    "\n"
   ]
  },
  {
   "cell_type": "code",
   "execution_count": 76,
   "metadata": {
    "collapsed": false
   },
   "outputs": [
    {
     "data": {
      "text/plain": [
       "0.33759161763187778"
      ]
     },
     "execution_count": 76,
     "metadata": {},
     "output_type": "execute_result"
    }
   ],
   "source": [
    "precision_score(labels_test,pred_labels)"
   ]
  },
  {
   "cell_type": "code",
   "execution_count": 22,
   "metadata": {
    "collapsed": false
   },
   "outputs": [
    {
     "data": {
      "text/plain": [
       "((887302,), array([[  5.00000000e+03,   0.00000000e+00,   3.00000000e+00, ...,\n",
       "           0.00000000e+00,   0.00000000e+00,   1.00000000e+00],\n",
       "        [  2.40000000e+03,   0.00000000e+00,   1.40000000e+01, ...,\n",
       "           0.00000000e+00,   0.00000000e+00,   0.00000000e+00],\n",
       "        [  1.00000000e+04,   0.00000000e+00,   4.00000000e+00, ...,\n",
       "           0.00000000e+00,   0.00000000e+00,   1.00000000e+00],\n",
       "        ..., \n",
       "        [  1.93000000e+04,   0.00000000e+00,   4.20000000e+01, ...,\n",
       "           1.91950000e+04,   0.00000000e+00,   1.00000000e+00],\n",
       "        [  1.07500000e+04,   0.00000000e+00,   3.10000000e+01, ...,\n",
       "           9.70000000e+02,   0.00000000e+00,   1.00000000e+00],\n",
       "        [  1.82500000e+04,   0.00000000e+00,   4.00000000e+00, ...,\n",
       "           3.09100000e+03,   0.00000000e+00,   1.00000000e+00]]))"
      ]
     },
     "execution_count": 22,
     "metadata": {},
     "output_type": "execute_result"
    }
   ],
   "source": [
    "from imblearn.over_sampling import  RandomOverSampler ,SMOTE\n",
    "from imblearn.under_sampling import     RandomUnderSampler \n",
    "#from imblearn.ensemble import     BalanceCascade \n",
    "\n",
    "\n",
    "feature_array=['funded_amnt','acc_now_delinq','state_enc','annual_inc','chargeoff_within_12_mths'\\\n",
    "                   ,'delinq_2yrs','delinq_amnt','dti','emp_length','sub_grad_enc','inq_last_6mths','inq_last_12m'\\\n",
    "                   ,'issue_d','mort_acc','mths_since_last_delinq'\n",
    "                   ,'mths_since_last_major_derog','num_accts_ever_120_pd','pct_tl_nvr_dlq','pub_rec_bankruptcies'\\\n",
    "                   ,'term','total_acc','own_home','rent_home','mort_home','installment','inq_fi','num_sats','avg_cur_bal'\\\n",
    "                   , 'all_util','verified']\n",
    "#feature_array=['annual_inc','emp_length','dti','sub_grad_enc','mort_acc','all_util']\n",
    "for feature in feature_array:\n",
    "    loan_data[feature]=loan_data[feature].fillna(0)\n",
    "    \n",
    "#features=pd.concat([loan_data,loan_data[loan_data.loan_status==1],loan_data[loan_data.loan_status==1]])[feature_array]\n",
    "#labels=pd.concat([loan_data,loan_data[loan_data.loan_status==1],loan_data[loan_data.loan_status==1]])['loan_status']\n",
    "#features=pd.concat([loan_data,loan_data[loan_data.loan_status==1]])[feature_array]\n",
    "#labels=pd.concat([loan_data,loan_data[loan_data.loan_status==1]])['loan_status']\n",
    "features=pd.concat([loan_data])[feature_array]\n",
    "labels=pd.concat([loan_data])['loan_status']\n",
    "ros = RandomOverSampler(random_state=42)\n",
    "\n",
    "features_res, labels_res = ros.fit_sample(features, labels)\n",
    "\n",
    "labels_res.shape,features_res"
   ]
  },
  {
   "cell_type": "code",
   "execution_count": 23,
   "metadata": {
    "collapsed": false
   },
   "outputs": [
    {
     "data": {
      "text/plain": [
       "(array([0, 1], dtype=int64), array([443651, 443651], dtype=int64))"
      ]
     },
     "execution_count": 23,
     "metadata": {},
     "output_type": "execute_result"
    }
   ],
   "source": [
    "np.unique(labels_res,return_counts=True)"
   ]
  },
  {
   "cell_type": "code",
   "execution_count": 79,
   "metadata": {
    "collapsed": false
   },
   "outputs": [
    {
     "data": {
      "text/plain": [
       "array([ 0.82720093,  0.82761685,  0.82824194,  0.82722666,  0.82735704])"
      ]
     },
     "execution_count": 79,
     "metadata": {},
     "output_type": "execute_result"
    }
   ],
   "source": [
    "from sklearn.tree import DecisionTreeClassifier\n",
    "from sklearn.model_selection import train_test_split\n",
    "from sklearn.model_selection import cross_val_score\n",
    "from sklearn.linear_model import LogisticRegression,SGDClassifier\n",
    "from sklearn.naive_bayes import GaussianNB\n",
    "from sklearn.preprocessing import MinMaxScaler,StandardScaler\n",
    "from sklearn.svm import LinearSVC\n",
    "from sklearn.ensemble import AdaBoostClassifier,RandomForestClassifier\n",
    "from sklearn.ensemble import ExtraTreesClassifier,GradientBoostingClassifier\n",
    "\n",
    "\n",
    "\n",
    "scaler=StandardScaler()\n",
    "features=scaler.fit_transform(features)\n",
    "\n",
    "\n",
    "\n",
    "clf=DecisionTreeClassifier(max_features='sqrt',class_weight={1:2,0:1})\n",
    "#clf=LogisticRegression(C=0.01,class_weight={1:2,0:1},max_iter=300)\n",
    "#clf=AdaBoostClassifier(ExtraTreesClassifier()\n",
    "#                       ,algorithm='SAMME.R'\n",
    "#                       ,n_estimators=200,\n",
    "#                      )\n",
    "#clf=AdaBoostClassifier(LogisticRegression(C=0.01,class_weight={1:2,0:1},solver='sag')\n",
    "#                       ,algorithm='SAMME.R'\n",
    "#                       ,n_estimators=1000)\n",
    "#LogisticRegression()\n",
    "#GaussianNB()\n",
    "#DecisionTreeClassifier()\n",
    "#clf=LinearSVC(C=0.001)\n",
    "#clf=RandomForestClassifier(n_estimators=20,bootstrap=True)\n",
    "#clf=ExtraTreesClassifier(n_estimators=100)\n",
    "#clf=GradientBoostingClassifier()\n",
    "#clf=SGDClassifier(n_iter=30,alpha=0.0001,n_jobs=4)\n",
    "\n",
    "features_train,features_test,labels_train,labels_test=train_test_split(features_res,labels_res,test_size=0.25,random_state=42)\n",
    "\n",
    "scores=cross_val_score(clf,features_train,labels_train,cv=5,scoring='f1')\n",
    "scores\n"
   ]
  },
  {
   "cell_type": "code",
   "execution_count": 80,
   "metadata": {
    "collapsed": false
   },
   "outputs": [
    {
     "data": {
      "text/plain": [
       "DecisionTreeClassifier(class_weight={1: 2, 0: 1}, criterion='gini',\n",
       "            max_depth=None, max_features='sqrt', max_leaf_nodes=None,\n",
       "            min_impurity_split=1e-07, min_samples_leaf=1,\n",
       "            min_samples_split=2, min_weight_fraction_leaf=0.0,\n",
       "            presort=False, random_state=None, splitter='best')"
      ]
     },
     "execution_count": 80,
     "metadata": {},
     "output_type": "execute_result"
    }
   ],
   "source": [
    "clf.fit(features_train,labels_train)"
   ]
  },
  {
   "cell_type": "code",
   "execution_count": 83,
   "metadata": {
    "collapsed": false
   },
   "outputs": [
    {
     "data": {
      "text/plain": [
       "0.79339961400352166"
      ]
     },
     "execution_count": 83,
     "metadata": {},
     "output_type": "execute_result"
    }
   ],
   "source": [
    "from sklearn.metrics import accuracy_score,f1_score,precision_score,recall_score,make_scorer\n",
    "pred_labels=clf.predict(features_test)\n",
    "\n",
    "precision_score(labels_test,pred_labels)\n",
    "#pd.Series(pred_labels).value_counts()"
   ]
  },
  {
   "cell_type": "code",
   "execution_count": 27,
   "metadata": {
    "collapsed": false
   },
   "outputs": [
    {
     "name": "stdout",
     "output_type": "stream",
     "text": [
      "Fitting 5 folds for each of 3 candidates, totalling 15 fits\n"
     ]
    },
    {
     "name": "stderr",
     "output_type": "stream",
     "text": [
      "[Parallel(n_jobs=1)]: Done  15 out of  15 | elapsed: 30.3min finished\n"
     ]
    },
    {
     "data": {
      "text/plain": [
       "GridSearchCV(cv=5, error_score='raise',\n",
       "       estimator=Pipeline(steps=[('scaler', StandardScaler(copy=True, with_mean=True, with_std=True)), ('selection', SelectKBest(k=10, score_func=<function f_classif at 0x0000017800EB5AE8>)), ('pca', PCA(copy=True, iterated_power='auto', n_components=None, random_state=None,\n",
       "  svd_solver='auto', tol=0.0, whiten=False)), ('cl...timators=10, n_jobs=1, oob_score=False, random_state=None,\n",
       "           verbose=0, warm_start=False))]),\n",
       "       fit_params={}, iid=True, n_jobs=1,\n",
       "       param_grid={'selection__k': [10, 20, 30], 'classifier__n_estimators': [100], 'pca__n_components': [2], 'pca__whiten': [True]},\n",
       "       pre_dispatch='2*n_jobs', refit=True, return_train_score=True,\n",
       "       scoring='f1', verbose=1)"
      ]
     },
     "execution_count": 27,
     "metadata": {},
     "output_type": "execute_result"
    }
   ],
   "source": [
    "from sklearn.pipeline import Pipeline\n",
    "from sklearn.decomposition import PCA \n",
    "from sklearn.ensemble import VotingClassifier,RandomForestClassifier,ExtraTreesClassifier,AdaBoostClassifier\n",
    "from sklearn.feature_selection import SelectKBest,f_classif\n",
    "from sklearn.model_selection import StratifiedShuffleSplit,GridSearchCV\n",
    "\n",
    "params = {'selection__k':[10,20,30],\n",
    "                           'classifier__n_estimators': [100]\n",
    "                           #'classifier__max_features': [0.8], \n",
    "                           #,'classifier__n_jobs': [-1]\n",
    "                           #'classifier__min_samples_split': [10],\n",
    "                           ,'pca__n_components': [2]\n",
    "                           ,'pca__whiten': [True] \n",
    "                           }\n",
    "pipeline = Pipeline(steps=[('scaler', StandardScaler()), \n",
    "                                        ('selection', SelectKBest(score_func=f_classif)), \n",
    "                                        ('pca', PCA()), \n",
    "                                        ('classifier', ExtraTreesClassifier()) \n",
    "                                        ]) \n",
    "\n",
    "sss_cv = StratifiedShuffleSplit(labels, test_size=0.1,random_state=42)\n",
    "scoring_metric='f1'\n",
    "grid_searcher = GridSearchCV(pipeline, param_grid=params,cv=5,\n",
    "                                     scoring=scoring_metric, verbose=1) \n",
    "grid_searcher.fit(features_train, labels_train) "
   ]
  },
  {
   "cell_type": "code",
   "execution_count": 28,
   "metadata": {
    "collapsed": false
   },
   "outputs": [
    {
     "data": {
      "text/html": [
       "<div>\n",
       "<table border=\"1\" class=\"dataframe\">\n",
       "  <thead>\n",
       "    <tr style=\"text-align: right;\">\n",
       "      <th></th>\n",
       "      <th>mean_fit_time</th>\n",
       "      <th>mean_score_time</th>\n",
       "      <th>mean_test_score</th>\n",
       "      <th>mean_train_score</th>\n",
       "      <th>param_classifier__n_estimators</th>\n",
       "      <th>param_pca__n_components</th>\n",
       "      <th>param_pca__whiten</th>\n",
       "      <th>param_selection__k</th>\n",
       "      <th>params</th>\n",
       "      <th>rank_test_score</th>\n",
       "      <th>...</th>\n",
       "      <th>split2_test_score</th>\n",
       "      <th>split2_train_score</th>\n",
       "      <th>split3_test_score</th>\n",
       "      <th>split3_train_score</th>\n",
       "      <th>split4_test_score</th>\n",
       "      <th>split4_train_score</th>\n",
       "      <th>std_fit_time</th>\n",
       "      <th>std_score_time</th>\n",
       "      <th>std_test_score</th>\n",
       "      <th>std_train_score</th>\n",
       "    </tr>\n",
       "  </thead>\n",
       "  <tbody>\n",
       "    <tr>\n",
       "      <th>0</th>\n",
       "      <td>62.1402</td>\n",
       "      <td>10.5761</td>\n",
       "      <td>0.8207</td>\n",
       "      <td>0.9725</td>\n",
       "      <td>100</td>\n",
       "      <td>2</td>\n",
       "      <td>True</td>\n",
       "      <td>10</td>\n",
       "      <td>{'classifier__n_estimators': 100, 'pca__n_comp...</td>\n",
       "      <td>2</td>\n",
       "      <td>...</td>\n",
       "      <td>0.8167</td>\n",
       "      <td>0.9668</td>\n",
       "      <td>0.8173</td>\n",
       "      <td>0.9668</td>\n",
       "      <td>0.8228</td>\n",
       "      <td>0.9763</td>\n",
       "      <td>2.3608</td>\n",
       "      <td>0.3597</td>\n",
       "      <td>0.0031</td>\n",
       "      <td>0.0047</td>\n",
       "    </tr>\n",
       "    <tr>\n",
       "      <th>1</th>\n",
       "      <td>71.8009</td>\n",
       "      <td>11.4306</td>\n",
       "      <td>0.7371</td>\n",
       "      <td>0.8566</td>\n",
       "      <td>100</td>\n",
       "      <td>2</td>\n",
       "      <td>True</td>\n",
       "      <td>20</td>\n",
       "      <td>{'classifier__n_estimators': 100, 'pca__n_comp...</td>\n",
       "      <td>3</td>\n",
       "      <td>...</td>\n",
       "      <td>0.8201</td>\n",
       "      <td>0.9674</td>\n",
       "      <td>0.6447</td>\n",
       "      <td>0.7316</td>\n",
       "      <td>0.6710</td>\n",
       "      <td>0.7680</td>\n",
       "      <td>6.3584</td>\n",
       "      <td>0.5211</td>\n",
       "      <td>0.0681</td>\n",
       "      <td>0.0917</td>\n",
       "    </tr>\n",
       "    <tr>\n",
       "      <th>2</th>\n",
       "      <td>67.8786</td>\n",
       "      <td>10.9720</td>\n",
       "      <td>0.8403</td>\n",
       "      <td>0.9952</td>\n",
       "      <td>100</td>\n",
       "      <td>2</td>\n",
       "      <td>True</td>\n",
       "      <td>30</td>\n",
       "      <td>{'classifier__n_estimators': 100, 'pca__n_comp...</td>\n",
       "      <td>1</td>\n",
       "      <td>...</td>\n",
       "      <td>0.8386</td>\n",
       "      <td>0.9943</td>\n",
       "      <td>0.8404</td>\n",
       "      <td>0.9932</td>\n",
       "      <td>0.8421</td>\n",
       "      <td>0.9984</td>\n",
       "      <td>0.9857</td>\n",
       "      <td>0.1875</td>\n",
       "      <td>0.0018</td>\n",
       "      <td>0.0025</td>\n",
       "    </tr>\n",
       "  </tbody>\n",
       "</table>\n",
       "<p>3 rows × 24 columns</p>\n",
       "</div>"
      ],
      "text/plain": [
       "   mean_fit_time  mean_score_time  mean_test_score  mean_train_score  \\\n",
       "0        62.1402          10.5761           0.8207            0.9725   \n",
       "1        71.8009          11.4306           0.7371            0.8566   \n",
       "2        67.8786          10.9720           0.8403            0.9952   \n",
       "\n",
       "  param_classifier__n_estimators param_pca__n_components param_pca__whiten  \\\n",
       "0                            100                       2              True   \n",
       "1                            100                       2              True   \n",
       "2                            100                       2              True   \n",
       "\n",
       "  param_selection__k                                             params  \\\n",
       "0                 10  {'classifier__n_estimators': 100, 'pca__n_comp...   \n",
       "1                 20  {'classifier__n_estimators': 100, 'pca__n_comp...   \n",
       "2                 30  {'classifier__n_estimators': 100, 'pca__n_comp...   \n",
       "\n",
       "   rank_test_score       ...         split2_test_score  split2_train_score  \\\n",
       "0                2       ...                    0.8167              0.9668   \n",
       "1                3       ...                    0.8201              0.9674   \n",
       "2                1       ...                    0.8386              0.9943   \n",
       "\n",
       "   split3_test_score  split3_train_score  split4_test_score  \\\n",
       "0             0.8173              0.9668             0.8228   \n",
       "1             0.6447              0.7316             0.6710   \n",
       "2             0.8404              0.9932             0.8421   \n",
       "\n",
       "   split4_train_score  std_fit_time  std_score_time  std_test_score  \\\n",
       "0              0.9763        2.3608          0.3597          0.0031   \n",
       "1              0.7680        6.3584          0.5211          0.0681   \n",
       "2              0.9984        0.9857          0.1875          0.0018   \n",
       "\n",
       "   std_train_score  \n",
       "0           0.0047  \n",
       "1           0.0917  \n",
       "2           0.0025  \n",
       "\n",
       "[3 rows x 24 columns]"
      ]
     },
     "execution_count": 28,
     "metadata": {},
     "output_type": "execute_result"
    }
   ],
   "source": [
    "pd.DataFrame(grid_searcher.cv_results_)\n"
   ]
  },
  {
   "cell_type": "code",
   "execution_count": 28,
   "metadata": {
    "collapsed": false
   },
   "outputs": [
    {
     "data": {
      "image/png": "[encoded data removed]",
      "text/plain": [
       "<matplotlib.figure.Figure at 0x1fe822fd278>"
      ]
     },
     "metadata": {},
     "output_type": "display_data"
    }
   ],
   "source": [
    "from sklearn.model_selection import StratifiedShuffleSplit,ShuffleSplit,learning_curve\n",
    "features_train_low,labels_train_low=resample(features_train,labels_train,n_samples=300000,random_state=42)\n",
    "\n",
    "\n",
    "cv=StratifiedShuffleSplit(n_splits=10,test_size=0.25,random_state=42)\n",
    "estimator=AdaBoostClassifier(DecisionTreeClassifier(max_features='sqrt',class_weight={1:2,0:1},criterion='gini')\n",
    "                       ,algorithm='SAMME.R'\n",
    "                       ,n_estimators=1000)\n",
    "\n",
    "#estimator=ExtraTreesClassifier(n_estimators=10)\n",
    "title='LearningCurve (AdaBoostClassifier)'\n",
    "ylim=(0.5,1.2)\n",
    "n_jobs=4\n",
    "scorer=make_scorer(f1_score)\n",
    "plt.figure()\n",
    "plt.title(title)\n",
    "plt.ylim(ylim)\n",
    "plt.xlabel(\"Training examples\")\n",
    "plt.ylabel(\"score\")\n",
    "train_sizes=np.linspace(0.1,1.0,5)\n",
    "train_sizes, train_scores, test_scores = learning_curve( \\\n",
    "        estimator, features_train_low, labels_train_low, cv=cv, \\\n",
    "        n_jobs=n_jobs, train_sizes=train_sizes, \\\n",
    "        scoring=scorer)\n",
    "train_scores_mean = np.mean(train_scores, axis=1)\n",
    "train_scores_std = np.std(train_scores, axis=1)\n",
    "test_scores_mean = np.mean(test_scores, axis=1)\n",
    "test_scores_std = np.std(test_scores, axis=1)\n",
    "plt.grid()\n",
    "\n",
    "plt.fill_between(train_sizes, train_scores_mean - train_scores_std,\n",
    "                 train_scores_mean + train_scores_std, alpha=0.1,\n",
    "                 color=\"r\")\n",
    "plt.fill_between(train_sizes, test_scores_mean - test_scores_std,\n",
    "                 test_scores_mean + test_scores_std, alpha=0.1, color=\"g\")\n",
    "plt.plot(train_sizes, train_scores_mean, 'o-', color=\"r\",\n",
    "         label=\"Training score\")\n",
    "plt.plot(train_sizes, test_scores_mean, 'o-', color=\"g\",\n",
    "         label=\"Cross-validation score\")\n",
    "\n",
    "plt.legend(loc=\"best\")\n",
    "plt.show()\n"
   ]
  },
  {
   "cell_type": "code",
   "execution_count": 27,
   "metadata": {
    "collapsed": false
   },
   "outputs": [
    {
     "data": {
      "image/png": "[encoded data removed]",
      "text/plain": [
       "<matplotlib.figure.Figure at 0x1fe822d1208>"
      ]
     },
     "metadata": {},
     "output_type": "display_data"
    }
   ],
   "source": [
    "from sklearn.model_selection import StratifiedShuffleSplit,ShuffleSplit,learning_curve\n",
    "from sklearn.utils import resample\n",
    "from sklearn.tree import DecisionTreeClassifier\n",
    "from sklearn.model_selection import train_test_split\n",
    "from sklearn.model_selection import cross_val_score\n",
    "from sklearn.linear_model import LogisticRegression,SGDClassifier\n",
    "from sklearn.naive_bayes import GaussianNB\n",
    "from sklearn.preprocessing import MinMaxScaler,StandardScaler\n",
    "from sklearn.svm import LinearSVC\n",
    "from sklearn.ensemble import AdaBoostClassifier,RandomForestClassifier\n",
    "from sklearn.ensemble import ExtraTreesClassifier,GradientBoostingClassifier\n",
    "from sklearn.metrics import accuracy_score,f1_score,precision_score,recall_score,make_scorer\n",
    "\n",
    "features_train,features_test,labels_train,labels_test=train_test_split(features_res,labels_res,test_size=0.25,random_state=42)\n",
    "features_train_low,labels_train_low=resample(features_train,labels_train,n_samples=300000,random_state=42)\n",
    "cv=StratifiedShuffleSplit(n_splits=5,test_size=0.25,random_state=42)\n",
    "\n",
    "#estimator=AdaBoostClassifier(DecisionTreeClassifier(max_features='sqrt',class_weight={1:2,0:1},criterion='gini')\n",
    "#                       ,algorithm='SAMME.R'\n",
    "#                       ,n_estimators=1000)\n",
    "\n",
    "estimator=ExtraTreesClassifier(n_estimators=100)\n",
    "title='LearningCurve (Extra Trees Classifier)'\n",
    "ylim=(0.5,1.2)\n",
    "n_jobs=5\n",
    "scorer=make_scorer(f1_score)\n",
    "plt.figure()\n",
    "plt.title(title)\n",
    "plt.ylim(ylim)\n",
    "plt.xlabel(\"Training examples\")\n",
    "plt.ylabel(\"score\")\n",
    "train_sizes=np.linspace(0.1,1.0,5)\n",
    "train_sizes, train_scores, test_scores = learning_curve( \\\n",
    "        estimator, features_train_low, labels_train_low, cv=cv, \\\n",
    "         n_jobs=n_jobs,train_sizes=train_sizes, \\\n",
    "        scoring=scorer)\n",
    "train_scores_mean = np.mean(train_scores, axis=1)\n",
    "train_scores_std = np.std(train_scores, axis=1)\n",
    "test_scores_mean = np.mean(test_scores, axis=1)\n",
    "test_scores_std = np.std(test_scores, axis=1)\n",
    "plt.grid()\n",
    "\n",
    "plt.fill_between(train_sizes, train_scores_mean - train_scores_std,\n",
    "                 train_scores_mean + train_scores_std, alpha=0.1,\n",
    "                 color=\"r\")\n",
    "plt.fill_between(train_sizes, test_scores_mean - test_scores_std,\n",
    "                 test_scores_mean + test_scores_std, alpha=0.1, color=\"g\")\n",
    "plt.plot(train_sizes, train_scores_mean, 'o-', color=\"r\",\n",
    "         label=\"Training score\")\n",
    "plt.plot(train_sizes, test_scores_mean, 'o-', color=\"g\",\n",
    "         label=\"Cross-validation score\")\n",
    "\n",
    "plt.legend(loc=\"best\")\n",
    "plt.show()\n"
   ]
  },
  {
   "cell_type": "code",
   "execution_count": 34,
   "metadata": {
    "collapsed": false
   },
   "outputs": [
    {
     "data": {
      "image/png": "[encoded data removed]",
      "text/plain": [
       "<matplotlib.figure.Figure at 0x1fe88a234e0>"
      ]
     },
     "metadata": {},
     "output_type": "display_data"
    }
   ],
   "source": [
    "from sklearn.utils import resample\n",
    "cv=StratifiedShuffleSplit(n_splits=5,test_size=0.25,random_state=42)\n",
    "estimator=LogisticRegression(C=0.01,max_iter=4000,solver='lbfgs')\n",
    "features_train_low,labels_train_low=resample(features_train,labels_train,n_samples=20000,random_state=42)\n",
    "#estimator=ExtraTreesClassifier(n_estimators=20)\n",
    "title='LearningCurve (LogisticRegressionClassifier)'\n",
    "ylim=(0,1.2)\n",
    "n_jobs=4\n",
    "scorer=make_scorer(f1_score)\n",
    "plt.figure()\n",
    "plt.title(title)\n",
    "plt.ylim(ylim)\n",
    "plt.xlabel(\"Training examples\")\n",
    "plt.ylabel(\"score\")\n",
    "train_sizes=np.linspace(0.1,1.0,5)\n",
    "train_sizes, train_scores, test_scores = learning_curve( \\\n",
    "        estimator, features_train_low, labels_train_low, cv=cv, \\\n",
    "         n_jobs=n_jobs,train_sizes=train_sizes, \\\n",
    "        scoring=scorer)\n",
    "train_scores_mean = np.mean(train_scores, axis=1)\n",
    "train_scores_std = np.std(train_scores, axis=1)\n",
    "test_scores_mean = np.mean(test_scores, axis=1)\n",
    "test_scores_std = np.std(test_scores, axis=1)\n",
    "plt.grid()\n",
    "\n",
    "plt.fill_between(train_sizes, train_scores_mean - train_scores_std,\n",
    "                 train_scores_mean + train_scores_std, alpha=0.1,\n",
    "                 color=\"r\")\n",
    "plt.fill_between(train_sizes, test_scores_mean - test_scores_std,\n",
    "                 test_scores_mean + test_scores_std, alpha=0.1, color=\"g\")\n",
    "plt.plot(train_sizes, train_scores_mean, 'o-', color=\"r\",\n",
    "         label=\"Training score\")\n",
    "plt.plot(train_sizes, test_scores_mean, 'o-', color=\"g\",\n",
    "         label=\"Cross-validation score\")\n",
    "\n",
    "plt.legend(loc=\"best\")\n",
    "plt.show()\n"
   ]
  },
  {
   "cell_type": "code",
   "execution_count": 35,
   "metadata": {
    "collapsed": false
   },
   "outputs": [
    {
     "data": {
      "image/png": "[encoded data removed]",
      "text/plain": [
       "<matplotlib.figure.Figure at 0x1fe8216db00>"
      ]
     },
     "metadata": {},
     "output_type": "display_data"
    }
   ],
   "source": [
    "from sklearn.utils import resample\n",
    "cv=StratifiedShuffleSplit(n_splits=5,test_size=0.25,random_state=42)\n",
    "estimator=DecisionTreeClassifier()\n",
    "features_train_low,labels_train_low=resample(features_train,labels_train,n_samples=300000,random_state=42)\n",
    "#estimator=ExtraTreesClassifier(n_estimators=20)\n",
    "title='LearningCurve (Decision Tree Classifier)'\n",
    "ylim=(0,1.2)\n",
    "n_jobs=4\n",
    "scorer=make_scorer(f1_score)\n",
    "plt.figure()\n",
    "plt.title(title)\n",
    "plt.ylim(ylim)\n",
    "plt.xlabel(\"Training examples\")\n",
    "plt.ylabel(\"score\")\n",
    "train_sizes=np.linspace(0.1,1.0,5)\n",
    "train_sizes, train_scores, test_scores = learning_curve( \\\n",
    "        estimator, features_train, labels_train, cv=cv, \\\n",
    "         n_jobs=n_jobs,train_sizes=train_sizes, \\\n",
    "        scoring=scorer)\n",
    "train_scores_mean = np.mean(train_scores, axis=1)\n",
    "train_scores_std = np.std(train_scores, axis=1)\n",
    "test_scores_mean = np.mean(test_scores, axis=1)\n",
    "test_scores_std = np.std(test_scores, axis=1)\n",
    "plt.grid()\n",
    "\n",
    "plt.fill_between(train_sizes, train_scores_mean - train_scores_std,\n",
    "                 train_scores_mean + train_scores_std, alpha=0.1,\n",
    "                 color=\"r\")\n",
    "plt.fill_between(train_sizes, test_scores_mean - test_scores_std,\n",
    "                 test_scores_mean + test_scores_std, alpha=0.1, color=\"g\")\n",
    "plt.plot(train_sizes, train_scores_mean, 'o-', color=\"r\",\n",
    "         label=\"Training score\")\n",
    "plt.plot(train_sizes, test_scores_mean, 'o-', color=\"g\",\n",
    "         label=\"Cross-validation score\")\n",
    "\n",
    "plt.legend(loc=\"best\")\n",
    "plt.show()\n"
   ]
  },
  {
   "cell_type": "code",
   "execution_count": 36,
   "metadata": {
    "collapsed": false
   },
   "outputs": [
    {
     "data": {
      "text/plain": [
       "0.85219527071021761"
      ]
     },
     "execution_count": 36,
     "metadata": {},
     "output_type": "execute_result"
    }
   ],
   "source": [
    "estimator.fit(features_train,labels_train)\n",
    "pred_labels=estimator.predict(features_test)\n",
    "\n",
    "f1_score(labels_test,pred_labels)\n"
   ]
  },
  {
   "cell_type": "code",
   "execution_count": 59,
   "metadata": {
    "collapsed": false
   },
   "outputs": [
    {
     "name": "stdout",
     "output_type": "stream",
     "text": [
      "Fitting 5 folds for each of 400 candidates, totalling 2000 fits\n"
     ]
    },
    {
     "name": "stderr",
     "output_type": "stream",
     "text": [
      "[Parallel(n_jobs=4)]: Done  42 tasks      | elapsed:  1.0min\n",
      "[Parallel(n_jobs=4)]: Done 192 tasks      | elapsed:  2.7min\n",
      "[Parallel(n_jobs=4)]: Done 442 tasks      | elapsed:  6.8min\n",
      "[Parallel(n_jobs=4)]: Done 792 tasks      | elapsed: 21.4min\n",
      "[Parallel(n_jobs=4)]: Done 1242 tasks      | elapsed: 36.9min\n",
      "[Parallel(n_jobs=4)]: Done 1792 tasks      | elapsed: 56.3min\n",
      "[Parallel(n_jobs=4)]: Done 2000 out of 2000 | elapsed: 69.9min finished\n"
     ]
    },
    {
     "data": {
      "text/plain": [
       "GridSearchCV(cv=5, error_score='raise',\n",
       "       estimator=Pipeline(steps=[('classifier', DecisionTreeClassifier(class_weight=None, criterion='gini', max_depth=None,\n",
       "            max_features=None, max_leaf_nodes=None,\n",
       "            min_impurity_split=1e-07, min_samples_leaf=1,\n",
       "            min_samples_split=2, min_weight_fraction_leaf=0.0,\n",
       "            presort=False, random_state=None, splitter='best'))]),\n",
       "       fit_params={}, iid=True, n_jobs=4,\n",
       "       param_grid={'classifier__max_depth': [3, None], 'classifier__max_features': array([27,  6,  8,  3, 20, 14, 19, 26,  5, 20]), 'classifier__min_samples_leaf': array([27,  6,  8,  3, 20, 14, 19, 26,  5, 20]), 'classifier__criterion': ['gini', 'entropy']},\n",
       "       pre_dispatch='2*n_jobs', refit=True, return_train_score=True,\n",
       "       scoring='f1', verbose=1)"
      ]
     },
     "execution_count": 59,
     "metadata": {},
     "output_type": "execute_result"
    }
   ],
   "source": [
    "from scipy.stats import randint\n",
    "from sklearn.pipeline import Pipeline\n",
    "from sklearn.decomposition import PCA \n",
    "from sklearn.model_selection import GridSearchCV\n",
    "\n",
    "x=randint.rvs(1,30,size=10)\n",
    "\n",
    "params = {\"classifier__max_depth\": [3, None],\n",
    "              \"classifier__max_features\": x,\n",
    "              \"classifier__min_samples_leaf\": x,\n",
    "              \"classifier__criterion\": [\"gini\", \"entropy\"]\n",
    "         }\n",
    "\n",
    "pipeline = Pipeline(steps=[('classifier', DecisionTreeClassifier()) \n",
    "                                        ]) \n",
    "\n",
    "sss_cv = StratifiedShuffleSplit(labels, test_size=0.1,random_state=42)\n",
    "scoring_metric='f1'\n",
    "grid_searcher = GridSearchCV(pipeline, param_grid=params,cv=5,\n",
    "                                     scoring=scoring_metric, verbose=1\n",
    "                            ,n_jobs=4) \n",
    "grid_searcher.fit(features_train, labels_train) \n"
   ]
  },
  {
   "cell_type": "code",
   "execution_count": 60,
   "metadata": {
    "collapsed": false
   },
   "outputs": [
    {
     "data": {
      "text/plain": [
       "array([ {'classifier__criterion': 'entropy', 'classifier__max_depth': None, 'classifier__max_features': 27, 'classifier__min_samples_leaf': 3}], dtype=object)"
      ]
     },
     "execution_count": 60,
     "metadata": {},
     "output_type": "execute_result"
    }
   ],
   "source": [
    "df=pd.DataFrame(grid_searcher.cv_results_)\n",
    "df[df['rank_test_score']==1]['params'].values"
   ]
  },
  {
   "cell_type": "code",
   "execution_count": 78,
   "metadata": {
    "collapsed": false
   },
   "outputs": [
    {
     "data": {
      "text/html": [
       "<div>\n",
       "<table border=\"1\" class=\"dataframe\">\n",
       "  <thead>\n",
       "    <tr style=\"text-align: right;\">\n",
       "      <th></th>\n",
       "      <th>mean_fit_time</th>\n",
       "      <th>mean_score_time</th>\n",
       "      <th>mean_test_score</th>\n",
       "      <th>mean_train_score</th>\n",
       "      <th>param_classifier__criterion</th>\n",
       "      <th>param_classifier__max_depth</th>\n",
       "      <th>param_classifier__max_features</th>\n",
       "      <th>param_classifier__min_samples_leaf</th>\n",
       "      <th>params</th>\n",
       "      <th>rank_test_score</th>\n",
       "      <th>...</th>\n",
       "      <th>split2_test_score</th>\n",
       "      <th>split2_train_score</th>\n",
       "      <th>split3_test_score</th>\n",
       "      <th>split3_train_score</th>\n",
       "      <th>split4_test_score</th>\n",
       "      <th>split4_train_score</th>\n",
       "      <th>std_fit_time</th>\n",
       "      <th>std_score_time</th>\n",
       "      <th>std_test_score</th>\n",
       "      <th>std_train_score</th>\n",
       "    </tr>\n",
       "  </thead>\n",
       "  <tbody>\n",
       "    <tr>\n",
       "      <th>303</th>\n",
       "      <td>24.3680</td>\n",
       "      <td>0.1809</td>\n",
       "      <td>0.7843</td>\n",
       "      <td>0.9573</td>\n",
       "      <td>entropy</td>\n",
       "      <td>None</td>\n",
       "      <td>27</td>\n",
       "      <td>3</td>\n",
       "      <td>{'classifier__criterion': 'entropy', 'classifi...</td>\n",
       "      <td>1</td>\n",
       "      <td>...</td>\n",
       "      <td>0.7862</td>\n",
       "      <td>0.9575</td>\n",
       "      <td>0.7852</td>\n",
       "      <td>0.9572</td>\n",
       "      <td>0.7836</td>\n",
       "      <td>0.9573</td>\n",
       "      <td>0.1471</td>\n",
       "      <td>0.0132</td>\n",
       "      <td>0.0013</td>\n",
       "      <td>0.0003</td>\n",
       "    </tr>\n",
       "  </tbody>\n",
       "</table>\n",
       "<p>1 rows × 24 columns</p>\n",
       "</div>"
      ],
      "text/plain": [
       "     mean_fit_time  mean_score_time  mean_test_score  mean_train_score  \\\n",
       "303        24.3680           0.1809           0.7843            0.9573   \n",
       "\n",
       "    param_classifier__criterion param_classifier__max_depth  \\\n",
       "303                     entropy                        None   \n",
       "\n",
       "    param_classifier__max_features param_classifier__min_samples_leaf  \\\n",
       "303                             27                                  3   \n",
       "\n",
       "                                                params  rank_test_score  \\\n",
       "303  {'classifier__criterion': 'entropy', 'classifi...                1   \n",
       "\n",
       "          ...         split2_test_score  split2_train_score  \\\n",
       "303       ...                    0.7862              0.9575   \n",
       "\n",
       "     split3_test_score  split3_train_score  split4_test_score  \\\n",
       "303             0.7852              0.9572             0.7836   \n",
       "\n",
       "     split4_train_score  std_fit_time  std_score_time  std_test_score  \\\n",
       "303              0.9573        0.1471          0.0132          0.0013   \n",
       "\n",
       "     std_train_score  \n",
       "303           0.0003  \n",
       "\n",
       "[1 rows x 24 columns]"
      ]
     },
     "execution_count": 78,
     "metadata": {},
     "output_type": "execute_result"
    }
   ],
   "source": [
    "df[df['rank_test_score']==1]"
   ]
  }
 ],
 "metadata": {
  "kernelspec": {
   "display_name": "Python 3",
   "language": "python",
   "name": "python3"
  },
  "language_info": {
   "codemirror_mode": {
    "name": "ipython",
    "version": 3
   },
   "file_extension": ".py",
   "mimetype": "text/x-python",
   "name": "python",
   "nbconvert_exporter": "python",
   "pygments_lexer": "ipython3",
   "version": "3.6.0"
  }
 },
 "nbformat": 4,
 "nbformat_minor": 2
}
