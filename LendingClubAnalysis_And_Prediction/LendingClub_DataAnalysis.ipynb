{
 "cells": [
  {
   "cell_type": "code",
   "execution_count": 101,
   "metadata": {
    "collapsed": false
   },
   "outputs": [
    {
     "name": "stdout",
     "output_type": "stream",
     "text": [
      "loaded loan data files\n"
     ]
    }
   ],
   "source": [
    "import pandas as pd\n",
    "import os\n",
    "import glob\n",
    "import matplotlib\n",
    "import matplotlib.pyplot as plt\n",
    "\n",
    "%matplotlib inline\n",
    "matplotlib.style.use('ggplot')\n",
    "\n",
    "pd.options.display.float_format = '{:,.2f}'.format\n",
    "\n",
    "# Load loan data files\n",
    "path=r'C:\\UniSyd\\DataScience\\LendingClub\\LoanData'\n",
    "all_files = glob.glob(os.path.join(path, \"*.csv\")) \n",
    "loan_data=pd.concat((pd.read_csv(f,header=0,skiprows=1,low_memory=False) for f in all_files), ignore_index=True)\n",
    "print (\"loaded loan data files\")"
   ]
  },
  {
   "cell_type": "markdown",
   "metadata": {},
   "source": [
    "We will load the Rejected loan data into separate dataframe."
   ]
  },
  {
   "cell_type": "code",
   "execution_count": 110,
   "metadata": {
    "collapsed": false
   },
   "outputs": [
    {
     "name": "stdout",
     "output_type": "stream",
     "text": [
      "loaded reject data files\n"
     ]
    }
   ],
   "source": [
    "#Load Reject data files\n",
    "path=r'C:\\UniSyd\\DataScience\\LendingClub\\RejectsData'\n",
    "all_files = glob.glob(os.path.join(path, \"*.csv\")) \n",
    "reject_data=pd.concat((pd.read_csv(f,header=0,skiprows=1,low_memory=False) for f in all_files), ignore_index=True)\n",
    "print (\"loaded reject data files\")"
   ]
  },
  {
   "cell_type": "code",
   "execution_count": 111,
   "metadata": {
    "collapsed": false
   },
   "outputs": [
    {
     "name": "stdout",
     "output_type": "stream",
     "text": [
      "(1321864, 113) (11079386, 9)\n"
     ]
    },
    {
     "data": {
      "text/plain": [
       "0    11048682\n",
       "2       30704\n",
       "Name: Policy Code, dtype: int64"
      ]
     },
     "execution_count": 111,
     "metadata": {},
     "output_type": "execute_result"
    }
   ],
   "source": [
    "pd.options.display.float_format = '{:,.2f}'.format\n",
    "#print (df1.shape,df2.shape,df3.shape,df4.shape)\n",
    "print (loan_data.shape,reject_data.shape)\n",
    "reject_data.head(5)\n",
    "\n",
    "reject_data[\"Policy Code\"].value_counts()"
   ]
  },
  {
   "cell_type": "code",
   "execution_count": 20,
   "metadata": {
    "collapsed": false
   },
   "outputs": [
    {
     "data": {
      "text/html": [
       "<div>\n",
       "<table border=\"1\" class=\"dataframe\">\n",
       "  <thead>\n",
       "    <tr style=\"text-align: right;\">\n",
       "      <th></th>\n",
       "      <th>Amount Requested</th>\n",
       "      <th>Application Date</th>\n",
       "      <th>Loan Title</th>\n",
       "      <th>Risk_Score</th>\n",
       "      <th>Debt-To-Income Ratio</th>\n",
       "      <th>Zip Code</th>\n",
       "      <th>State</th>\n",
       "      <th>Employment Length</th>\n",
       "      <th>Policy Code</th>\n",
       "    </tr>\n",
       "  </thead>\n",
       "  <tbody>\n",
       "    <tr>\n",
       "      <th>0</th>\n",
       "      <td>1,000.00</td>\n",
       "      <td>2007-05-26</td>\n",
       "      <td>Wedding Covered but No Honeymoon</td>\n",
       "      <td>693.00</td>\n",
       "      <td>10%</td>\n",
       "      <td>481xx</td>\n",
       "      <td>NM</td>\n",
       "      <td>4 years</td>\n",
       "      <td>0</td>\n",
       "    </tr>\n",
       "    <tr>\n",
       "      <th>1</th>\n",
       "      <td>1,000.00</td>\n",
       "      <td>2007-05-26</td>\n",
       "      <td>Consolidating Debt</td>\n",
       "      <td>703.00</td>\n",
       "      <td>10%</td>\n",
       "      <td>010xx</td>\n",
       "      <td>MA</td>\n",
       "      <td>&lt; 1 year</td>\n",
       "      <td>0</td>\n",
       "    </tr>\n",
       "    <tr>\n",
       "      <th>2</th>\n",
       "      <td>11,000.00</td>\n",
       "      <td>2007-05-27</td>\n",
       "      <td>Want to consolidate my debt</td>\n",
       "      <td>715.00</td>\n",
       "      <td>10%</td>\n",
       "      <td>212xx</td>\n",
       "      <td>MD</td>\n",
       "      <td>1 year</td>\n",
       "      <td>0</td>\n",
       "    </tr>\n",
       "    <tr>\n",
       "      <th>3</th>\n",
       "      <td>6,000.00</td>\n",
       "      <td>2007-05-27</td>\n",
       "      <td>waksman</td>\n",
       "      <td>698.00</td>\n",
       "      <td>38.64%</td>\n",
       "      <td>017xx</td>\n",
       "      <td>MA</td>\n",
       "      <td>&lt; 1 year</td>\n",
       "      <td>0</td>\n",
       "    </tr>\n",
       "    <tr>\n",
       "      <th>4</th>\n",
       "      <td>1,500.00</td>\n",
       "      <td>2007-05-27</td>\n",
       "      <td>mdrigo</td>\n",
       "      <td>509.00</td>\n",
       "      <td>9.43%</td>\n",
       "      <td>209xx</td>\n",
       "      <td>MD</td>\n",
       "      <td>&lt; 1 year</td>\n",
       "      <td>0</td>\n",
       "    </tr>\n",
       "  </tbody>\n",
       "</table>\n",
       "</div>"
      ],
      "text/plain": [
       "   Amount Requested Application Date                        Loan Title  \\\n",
       "0          1,000.00       2007-05-26  Wedding Covered but No Honeymoon   \n",
       "1          1,000.00       2007-05-26                Consolidating Debt   \n",
       "2         11,000.00       2007-05-27       Want to consolidate my debt   \n",
       "3          6,000.00       2007-05-27                           waksman   \n",
       "4          1,500.00       2007-05-27                            mdrigo   \n",
       "\n",
       "   Risk_Score Debt-To-Income Ratio Zip Code State Employment Length  \\\n",
       "0      693.00                  10%    481xx    NM           4 years   \n",
       "1      703.00                  10%    010xx    MA          < 1 year   \n",
       "2      715.00                  10%    212xx    MD            1 year   \n",
       "3      698.00               38.64%    017xx    MA          < 1 year   \n",
       "4      509.00                9.43%    209xx    MD          < 1 year   \n",
       "\n",
       "   Policy Code  \n",
       "0            0  \n",
       "1            0  \n",
       "2            0  \n",
       "3            0  \n",
       "4            0  "
      ]
     },
     "execution_count": 20,
     "metadata": {},
     "output_type": "execute_result"
    }
   ],
   "source": [
    "reject_data.head()"
   ]
  },
  {
   "cell_type": "markdown",
   "metadata": {},
   "source": [
    "All the files contained a few lines of summary data and does not help us in our analysis. Below code deletes 17 such entries "
   ]
  },
  {
   "cell_type": "code",
   "execution_count": 141,
   "metadata": {
    "collapsed": false
   },
   "outputs": [
    {
     "name": "stdout",
     "output_type": "stream",
     "text": [
      "(1321847, 113)\n"
     ]
    }
   ],
   "source": [
    "#frames=[df1,df2,df3,df4]\n",
    "#result=pd.concat(frames,ignore_index=True)\n",
    "#result.shape\n",
    "\n",
    "loan_data.drop(loan_data[loan_data.id.str.contains('Total|Loans',na=False)==True].index,inplace=True)\n",
    "print (loan_data.shape)\n",
    "#loan_data.dropna(inplace=True,axis=0,how='all')\n",
    "#print (loan_data.shape)"
   ]
  },
  {
   "cell_type": "markdown",
   "metadata": {},
   "source": [
    "Also the id and member_id columns does not have any data in them. Hence dropping them."
   ]
  },
  {
   "cell_type": "code",
   "execution_count": 142,
   "metadata": {
    "collapsed": true
   },
   "outputs": [
    {
     "ename": "ValueError",
     "evalue": "time data 2011.0 does not match format '%b-%Y' (match)",
     "output_type": "error",
     "traceback": [
      "\u001b[0;31m---------------------------------------------------------------------------\u001b[0m",
      "\u001b[0;31mTypeError\u001b[0m                                 Traceback (most recent call last)",
      "\u001b[0;32mC:\\ProgramData\\Anaconda3\\lib\\site-packages\\pandas\\tseries\\tools.py\u001b[0m in \u001b[0;36m_convert_listlike\u001b[0;34m(arg, box, format, name, tz)\u001b[0m\n\u001b[1;32m    409\u001b[0m             \u001b[1;32mtry\u001b[0m\u001b[1;33m:\u001b[0m\u001b[1;33m\u001b[0m\u001b[0m\n\u001b[0;32m--> 410\u001b[0;31m                 \u001b[0mvalues\u001b[0m\u001b[1;33m,\u001b[0m \u001b[0mtz\u001b[0m \u001b[1;33m=\u001b[0m \u001b[0mtslib\u001b[0m\u001b[1;33m.\u001b[0m\u001b[0mdatetime_to_datetime64\u001b[0m\u001b[1;33m(\u001b[0m\u001b[0marg\u001b[0m\u001b[1;33m)\u001b[0m\u001b[1;33m\u001b[0m\u001b[0m\n\u001b[0m\u001b[1;32m    411\u001b[0m                 \u001b[1;32mreturn\u001b[0m \u001b[0mDatetimeIndex\u001b[0m\u001b[1;33m.\u001b[0m\u001b[0m_simple_new\u001b[0m\u001b[1;33m(\u001b[0m\u001b[0mvalues\u001b[0m\u001b[1;33m,\u001b[0m \u001b[0mname\u001b[0m\u001b[1;33m=\u001b[0m\u001b[0mname\u001b[0m\u001b[1;33m,\u001b[0m \u001b[0mtz\u001b[0m\u001b[1;33m=\u001b[0m\u001b[0mtz\u001b[0m\u001b[1;33m)\u001b[0m\u001b[1;33m\u001b[0m\u001b[0m\n",
      "\u001b[0;32mpandas\\tslib.pyx\u001b[0m in \u001b[0;36mpandas.tslib.datetime_to_datetime64 (pandas\\tslib.c:33358)\u001b[0;34m()\u001b[0m\n",
      "\u001b[0;31mTypeError\u001b[0m: Unrecognized value type: <class 'float'>",
      "\nDuring handling of the above exception, another exception occurred:\n",
      "\u001b[0;31mValueError\u001b[0m                                Traceback (most recent call last)",
      "\u001b[0;32m<ipython-input-142-0a4876b9a89a>\u001b[0m in \u001b[0;36m<module>\u001b[0;34m()\u001b[0m\n\u001b[1;32m      4\u001b[0m \u001b[0mloan_data\u001b[0m\u001b[1;33m.\u001b[0m\u001b[0mdrop\u001b[0m\u001b[1;33m(\u001b[0m\u001b[1;34m'member_id'\u001b[0m\u001b[1;33m,\u001b[0m\u001b[0maxis\u001b[0m\u001b[1;33m=\u001b[0m\u001b[1;36m1\u001b[0m\u001b[1;33m,\u001b[0m\u001b[0minplace\u001b[0m\u001b[1;33m=\u001b[0m\u001b[1;32mTrue\u001b[0m\u001b[1;33m)\u001b[0m\u001b[1;33m\u001b[0m\u001b[0m\n\u001b[1;32m      5\u001b[0m \u001b[1;33m\u001b[0m\u001b[0m\n\u001b[0;32m----> 6\u001b[0;31m \u001b[0mloan_data\u001b[0m\u001b[1;33m[\u001b[0m\u001b[1;34m'issue_d'\u001b[0m\u001b[1;33m]\u001b[0m\u001b[1;33m=\u001b[0m\u001b[0mpd\u001b[0m\u001b[1;33m.\u001b[0m\u001b[0mto_datetime\u001b[0m\u001b[1;33m(\u001b[0m\u001b[0mloan_data\u001b[0m\u001b[1;33m[\u001b[0m\u001b[1;34m'issue_d'\u001b[0m\u001b[1;33m]\u001b[0m\u001b[1;33m,\u001b[0m\u001b[0mformat\u001b[0m\u001b[1;33m=\u001b[0m\u001b[1;34m'%b-%Y'\u001b[0m\u001b[1;33m)\u001b[0m\u001b[1;33m\u001b[0m\u001b[0m\n\u001b[0m\u001b[1;32m      7\u001b[0m \u001b[0mloan_data\u001b[0m\u001b[1;33m[\u001b[0m\u001b[1;34m'issue_d'\u001b[0m\u001b[1;33m]\u001b[0m\u001b[1;33m=\u001b[0m\u001b[0mloan_data\u001b[0m\u001b[1;33m[\u001b[0m\u001b[1;34m'issue_d'\u001b[0m\u001b[1;33m]\u001b[0m\u001b[1;33m.\u001b[0m\u001b[0mdt\u001b[0m\u001b[1;33m.\u001b[0m\u001b[0myear\u001b[0m\u001b[1;33m\u001b[0m\u001b[0m\n",
      "\u001b[0;32mC:\\ProgramData\\Anaconda3\\lib\\site-packages\\pandas\\util\\decorators.py\u001b[0m in \u001b[0;36mwrapper\u001b[0;34m(*args, **kwargs)\u001b[0m\n\u001b[1;32m     89\u001b[0m                 \u001b[1;32melse\u001b[0m\u001b[1;33m:\u001b[0m\u001b[1;33m\u001b[0m\u001b[0m\n\u001b[1;32m     90\u001b[0m                     \u001b[0mkwargs\u001b[0m\u001b[1;33m[\u001b[0m\u001b[0mnew_arg_name\u001b[0m\u001b[1;33m]\u001b[0m \u001b[1;33m=\u001b[0m \u001b[0mnew_arg_value\u001b[0m\u001b[1;33m\u001b[0m\u001b[0m\n\u001b[0;32m---> 91\u001b[0;31m             \u001b[1;32mreturn\u001b[0m \u001b[0mfunc\u001b[0m\u001b[1;33m(\u001b[0m\u001b[1;33m*\u001b[0m\u001b[0margs\u001b[0m\u001b[1;33m,\u001b[0m \u001b[1;33m**\u001b[0m\u001b[0mkwargs\u001b[0m\u001b[1;33m)\u001b[0m\u001b[1;33m\u001b[0m\u001b[0m\n\u001b[0m\u001b[1;32m     92\u001b[0m         \u001b[1;32mreturn\u001b[0m \u001b[0mwrapper\u001b[0m\u001b[1;33m\u001b[0m\u001b[0m\n\u001b[1;32m     93\u001b[0m     \u001b[1;32mreturn\u001b[0m \u001b[0m_deprecate_kwarg\u001b[0m\u001b[1;33m\u001b[0m\u001b[0m\n",
      "\u001b[0;32mC:\\ProgramData\\Anaconda3\\lib\\site-packages\\pandas\\tseries\\tools.py\u001b[0m in \u001b[0;36mto_datetime\u001b[0;34m(arg, errors, dayfirst, yearfirst, utc, box, format, exact, coerce, unit, infer_datetime_format)\u001b[0m\n\u001b[1;32m    419\u001b[0m     \u001b[1;32melif\u001b[0m \u001b[0misinstance\u001b[0m\u001b[1;33m(\u001b[0m\u001b[0marg\u001b[0m\u001b[1;33m,\u001b[0m \u001b[0mABCSeries\u001b[0m\u001b[1;33m)\u001b[0m\u001b[1;33m:\u001b[0m\u001b[1;33m\u001b[0m\u001b[0m\n\u001b[1;32m    420\u001b[0m         \u001b[1;32mfrom\u001b[0m \u001b[0mpandas\u001b[0m \u001b[1;32mimport\u001b[0m \u001b[0mSeries\u001b[0m\u001b[1;33m\u001b[0m\u001b[0m\n\u001b[0;32m--> 421\u001b[0;31m         \u001b[0mvalues\u001b[0m \u001b[1;33m=\u001b[0m \u001b[0m_convert_listlike\u001b[0m\u001b[1;33m(\u001b[0m\u001b[0marg\u001b[0m\u001b[1;33m.\u001b[0m\u001b[0m_values\u001b[0m\u001b[1;33m,\u001b[0m \u001b[1;32mFalse\u001b[0m\u001b[1;33m,\u001b[0m \u001b[0mformat\u001b[0m\u001b[1;33m)\u001b[0m\u001b[1;33m\u001b[0m\u001b[0m\n\u001b[0m\u001b[1;32m    422\u001b[0m         \u001b[1;32mreturn\u001b[0m \u001b[0mSeries\u001b[0m\u001b[1;33m(\u001b[0m\u001b[0mvalues\u001b[0m\u001b[1;33m,\u001b[0m \u001b[0mindex\u001b[0m\u001b[1;33m=\u001b[0m\u001b[0marg\u001b[0m\u001b[1;33m.\u001b[0m\u001b[0mindex\u001b[0m\u001b[1;33m,\u001b[0m \u001b[0mname\u001b[0m\u001b[1;33m=\u001b[0m\u001b[0marg\u001b[0m\u001b[1;33m.\u001b[0m\u001b[0mname\u001b[0m\u001b[1;33m)\u001b[0m\u001b[1;33m\u001b[0m\u001b[0m\n\u001b[1;32m    423\u001b[0m     \u001b[1;32melif\u001b[0m \u001b[0misinstance\u001b[0m\u001b[1;33m(\u001b[0m\u001b[0marg\u001b[0m\u001b[1;33m,\u001b[0m \u001b[1;33m(\u001b[0m\u001b[0mABCDataFrame\u001b[0m\u001b[1;33m,\u001b[0m \u001b[0mMutableMapping\u001b[0m\u001b[1;33m)\u001b[0m\u001b[1;33m)\u001b[0m\u001b[1;33m:\u001b[0m\u001b[1;33m\u001b[0m\u001b[0m\n",
      "\u001b[0;32mC:\\ProgramData\\Anaconda3\\lib\\site-packages\\pandas\\tseries\\tools.py\u001b[0m in \u001b[0;36m_convert_listlike\u001b[0;34m(arg, box, format, name, tz)\u001b[0m\n\u001b[1;32m    411\u001b[0m                 \u001b[1;32mreturn\u001b[0m \u001b[0mDatetimeIndex\u001b[0m\u001b[1;33m.\u001b[0m\u001b[0m_simple_new\u001b[0m\u001b[1;33m(\u001b[0m\u001b[0mvalues\u001b[0m\u001b[1;33m,\u001b[0m \u001b[0mname\u001b[0m\u001b[1;33m=\u001b[0m\u001b[0mname\u001b[0m\u001b[1;33m,\u001b[0m \u001b[0mtz\u001b[0m\u001b[1;33m=\u001b[0m\u001b[0mtz\u001b[0m\u001b[1;33m)\u001b[0m\u001b[1;33m\u001b[0m\u001b[0m\n\u001b[1;32m    412\u001b[0m             \u001b[1;32mexcept\u001b[0m \u001b[1;33m(\u001b[0m\u001b[0mValueError\u001b[0m\u001b[1;33m,\u001b[0m \u001b[0mTypeError\u001b[0m\u001b[1;33m)\u001b[0m\u001b[1;33m:\u001b[0m\u001b[1;33m\u001b[0m\u001b[0m\n\u001b[0;32m--> 413\u001b[0;31m                 \u001b[1;32mraise\u001b[0m \u001b[0me\u001b[0m\u001b[1;33m\u001b[0m\u001b[0m\n\u001b[0m\u001b[1;32m    414\u001b[0m \u001b[1;33m\u001b[0m\u001b[0m\n\u001b[1;32m    415\u001b[0m     \u001b[1;32mif\u001b[0m \u001b[0marg\u001b[0m \u001b[1;32mis\u001b[0m \u001b[1;32mNone\u001b[0m\u001b[1;33m:\u001b[0m\u001b[1;33m\u001b[0m\u001b[0m\n",
      "\u001b[0;32mC:\\ProgramData\\Anaconda3\\lib\\site-packages\\pandas\\tseries\\tools.py\u001b[0m in \u001b[0;36m_convert_listlike\u001b[0;34m(arg, box, format, name, tz)\u001b[0m\n\u001b[1;32m    378\u001b[0m                     \u001b[1;32mtry\u001b[0m\u001b[1;33m:\u001b[0m\u001b[1;33m\u001b[0m\u001b[0m\n\u001b[1;32m    379\u001b[0m                         result = tslib.array_strptime(arg, format, exact=exact,\n\u001b[0;32m--> 380\u001b[0;31m                                                       errors=errors)\n\u001b[0m\u001b[1;32m    381\u001b[0m                     \u001b[1;32mexcept\u001b[0m \u001b[0mtslib\u001b[0m\u001b[1;33m.\u001b[0m\u001b[0mOutOfBoundsDatetime\u001b[0m\u001b[1;33m:\u001b[0m\u001b[1;33m\u001b[0m\u001b[0m\n\u001b[1;32m    382\u001b[0m                         \u001b[1;32mif\u001b[0m \u001b[0merrors\u001b[0m \u001b[1;33m==\u001b[0m \u001b[1;34m'raise'\u001b[0m\u001b[1;33m:\u001b[0m\u001b[1;33m\u001b[0m\u001b[0m\n",
      "\u001b[0;32mpandas\\tslib.pyx\u001b[0m in \u001b[0;36mpandas.tslib.array_strptime (pandas\\tslib.c:62796)\u001b[0;34m()\u001b[0m\n",
      "\u001b[0;31mValueError\u001b[0m: time data 2011.0 does not match format '%b-%Y' (match)"
     ]
    }
   ],
   "source": [
    " #drops id and member_id as they have all NA\n",
    "\n",
    "loan_data.drop('id',axis=1,inplace=True)\n",
    "loan_data.drop('member_id',axis=1,inplace=True)\n",
    "\n",
    "\n",
    "loan_data['issue_d']=pd.to_datetime(loan_data['issue_d'],format='%b-%Y')\n",
    "loan_data['issue_d']=loan_data['issue_d'].dt.year\n"
   ]
  },
  {
   "cell_type": "markdown",
   "metadata": {},
   "source": [
    "We will be analysing the data across years . As of now there is no intention to do a monthly analysis and hence converting the column to hold year in which the loan was issued /rejected. "
   ]
  },
  {
   "cell_type": "code",
   "execution_count": 113,
   "metadata": {
    "collapsed": false
   },
   "outputs": [],
   "source": [
    "\n",
    "\n",
    "reject_data['Application Date']=pd.to_datetime(reject_data['Application Date'],format='%Y-%m-%d')\n",
    "reject_data['Application Date']=reject_data['Application Date'].dt.year"
   ]
  },
  {
   "cell_type": "code",
   "execution_count": 114,
   "metadata": {
    "collapsed": false
   },
   "outputs": [],
   "source": [
    "loan_data['issue_d'].fillna(0,inplace=True)\n",
    "loan_data.issue_d_year=loan_data['issue_d'].astype(int)\n",
    "loan_data['chargeoff_within_12_mths'].fillna(0,inplace=True)\n",
    "loan_data.chargeoff_within_12_mths=loan_data['chargeoff_within_12_mths'].astype(int)\n",
    "#loan_data.chargeoff_within_12_mths.unique()"
   ]
  },
  {
   "cell_type": "markdown",
   "metadata": {},
   "source": [
    "Below code creates dataframes that describe the distribution of the approved loan data and rejected loan data in each year. "
   ]
  },
  {
   "cell_type": "code",
   "execution_count": 115,
   "metadata": {
    "collapsed": false
   },
   "outputs": [
    {
     "data": {
      "text/html": [
       "<div>\n",
       "<table border=\"1\" class=\"dataframe\">\n",
       "  <thead>\n",
       "    <tr style=\"text-align: right;\">\n",
       "      <th></th>\n",
       "      <th>originated</th>\n",
       "      <th>rejected</th>\n",
       "    </tr>\n",
       "  </thead>\n",
       "  <tbody>\n",
       "    <tr>\n",
       "      <th>2010</th>\n",
       "      <td>12537</td>\n",
       "      <td>112561</td>\n",
       "    </tr>\n",
       "    <tr>\n",
       "      <th>2011</th>\n",
       "      <td>21721</td>\n",
       "      <td>217792</td>\n",
       "    </tr>\n",
       "    <tr>\n",
       "      <th>2012</th>\n",
       "      <td>53367</td>\n",
       "      <td>337277</td>\n",
       "    </tr>\n",
       "    <tr>\n",
       "      <th>2013</th>\n",
       "      <td>134814</td>\n",
       "      <td>760942</td>\n",
       "    </tr>\n",
       "    <tr>\n",
       "      <th>2014</th>\n",
       "      <td>235629</td>\n",
       "      <td>1933700</td>\n",
       "    </tr>\n",
       "    <tr>\n",
       "      <th>2015</th>\n",
       "      <td>421095</td>\n",
       "      <td>2859379</td>\n",
       "    </tr>\n",
       "    <tr>\n",
       "      <th>2016</th>\n",
       "      <td>434407</td>\n",
       "      <td>4769874</td>\n",
       "    </tr>\n",
       "  </tbody>\n",
       "</table>\n",
       "</div>"
      ],
      "text/plain": [
       "      originated  rejected\n",
       "2010       12537    112561\n",
       "2011       21721    217792\n",
       "2012       53367    337277\n",
       "2013      134814    760942\n",
       "2014      235629   1933700\n",
       "2015      421095   2859379\n",
       "2016      434407   4769874"
      ]
     },
     "execution_count": 115,
     "metadata": {},
     "output_type": "execute_result"
    }
   ],
   "source": [
    "loan_amt_by_year=loan_data[['issue_d','loan_amnt']].groupby('issue_d').agg({'loan_amnt':'count'})\n",
    "loan_amt_by_grade=loan_data[['grade','loan_amnt']].groupby('grade').agg({'loan_amnt':'count'})\n",
    "\n",
    "reject_data_by_year=reject_data[['Amount Requested','Application Date']].groupby('Application Date').agg({'Amount Requested':'count'})\n",
    "\n",
    "data_by_year=pd.DataFrame(index=[2010,2011,2012,2013,2014,2015,2016])\n",
    "data_by_year['originated']=loan_amt_by_year['loan_amnt']\n",
    "data_by_year['rejected']=reject_data_by_year['Amount Requested']\n",
    "data_by_year\n"
   ]
  },
  {
   "cell_type": "markdown",
   "metadata": {},
   "source": [
    "The Loan status Charged Off indicates that the borrower has not made any payments for more than 150 days and any outstanding principal will be counted towards the loss to investor. Below we find the distribution of such Charged off loans across the loan grades assigned by LC."
   ]
  },
  {
   "cell_type": "code",
   "execution_count": 125,
   "metadata": {
    "collapsed": false
   },
   "outputs": [],
   "source": [
    "risky_statuses=['Charged Off','Default','In Grace Period','Late(16-30 days)','Late(31-120 days)']\n",
    "names={True:1,False:0}\n",
    "\n",
    "loan_data['risky_status']=loan_data.loan_status.isin(risky_statuses).map(lambda x:names[x])\n",
    "loan_data['prnc_charged_off']=loan_data['risky_status']*(loan_data['funded_amnt']-loan_data['total_pymnt'])\n",
    "risky_by_year=loan_data[loan_data.risky_status==1][['issue_d','prnc_charged_off','funded_amnt','total_pymnt']].groupby('issue_d').agg({'prnc_charged_off':'sum','total_pymnt':'sum','funded_amnt':'count'})\n",
    "\n",
    "risky_by_grade=loan_data[loan_data.risky_status==1][['issue_d','prnc_charged_off','funded_amnt','total_pymnt','grade']].groupby('grade').agg({'prnc_charged_off':'sum','total_pymnt':'sum','funded_amnt':'count'})\n",
    "\n"
   ]
  },
  {
   "cell_type": "code",
   "execution_count": 117,
   "metadata": {
    "collapsed": false
   },
   "outputs": [
    {
     "data": {
      "image/png": "[encoded data removed]",
      "text/plain": [
       "<matplotlib.figure.Figure at 0x20c118bda20>"
      ]
     },
     "metadata": {},
     "output_type": "display_data"
    }
   ],
   "source": [
    "\n",
    "my_colors='br'\n",
    "fig1, axs1 = plt.subplots(ncols=2 ,figsize=(10, 4))\n",
    "data_by_year.plot(kind='bar',stacked=True,color=my_colors,title='Yearly Loan Applications',ax=axs1[0])\n",
    "axs1[0].set_xlabel('Years')\n",
    "loan_amt_by_grade.plot(kind='bar',color='b',title='Approved loans by grades',ax=axs1[1],legend=False)\n",
    "axs1[1].set_xlabel('Grades')\n",
    "fig1.savefig('TotalLoans.jpg')\n",
    "#risky_by_year.loc[2010:2017]['prnc_charged_off'].plot(kind='bar',title='Trend of Charge Offs',ax=axs[0])\n",
    "#axs[0].set_xlabel('Years')\n"
   ]
  },
  {
   "cell_type": "code",
   "execution_count": 127,
   "metadata": {
    "collapsed": false
   },
   "outputs": [
    {
     "data": {
      "image/png": "[encoded data removed]",
      "text/plain": [
       "<matplotlib.figure.Figure at 0x20c0c697f28>"
      ]
     },
     "metadata": {},
     "output_type": "display_data"
    }
   ],
   "source": [
    "fig2,axs2=plt.subplots(ncols=2 ,figsize=(12, 4))\n",
    "risky_by_grade['prnc_charged_off'].plot(kind='bar',title='Charge Offs by Grades',ax=axs2[0],color='b')\n",
    "axs2[0].set_xlabel('Loan Grade')\n",
    "risky_by_year.loc[2010:2017]['prnc_charged_off'].plot(kind='line',title='Charge Offs over years',ax=axs2[1],color='b')\n",
    "axs2[1].set_xlabel('Years')\n",
    "fig2.savefig('ChargedOff.jpg')"
   ]
  },
  {
   "cell_type": "markdown",
   "metadata": {},
   "source": [
    "The distribution of loan statuses over the entire loans funded by LC"
   ]
  },
  {
   "cell_type": "code",
   "execution_count": 128,
   "metadata": {
    "collapsed": false
   },
   "outputs": [
    {
     "data": {
      "text/html": [
       "<div>\n",
       "<table border=\"1\" class=\"dataframe\">\n",
       "  <thead>\n",
       "    <tr style=\"text-align: right;\">\n",
       "      <th></th>\n",
       "      <th>funded_amnt</th>\n",
       "    </tr>\n",
       "    <tr>\n",
       "      <th>loan_status</th>\n",
       "      <th></th>\n",
       "    </tr>\n",
       "  </thead>\n",
       "  <tbody>\n",
       "    <tr>\n",
       "      <th>Charged Off</th>\n",
       "      <td>0.0845</td>\n",
       "    </tr>\n",
       "    <tr>\n",
       "      <th>Current</th>\n",
       "      <td>0.5540</td>\n",
       "    </tr>\n",
       "    <tr>\n",
       "      <th>Default</th>\n",
       "      <td>0.0000</td>\n",
       "    </tr>\n",
       "    <tr>\n",
       "      <th>Does not meet the credit policy. Status:Charged Off</th>\n",
       "      <td>0.0006</td>\n",
       "    </tr>\n",
       "    <tr>\n",
       "      <th>Does not meet the credit policy. Status:Fully Paid</th>\n",
       "      <td>0.0015</td>\n",
       "    </tr>\n",
       "    <tr>\n",
       "      <th>Fully Paid</th>\n",
       "      <td>0.3341</td>\n",
       "    </tr>\n",
       "    <tr>\n",
       "      <th>In Grace Period</th>\n",
       "      <td>0.0078</td>\n",
       "    </tr>\n",
       "    <tr>\n",
       "      <th>Late (16-30 days)</th>\n",
       "      <td>0.0032</td>\n",
       "    </tr>\n",
       "    <tr>\n",
       "      <th>Late (31-120 days)</th>\n",
       "      <td>0.0143</td>\n",
       "    </tr>\n",
       "  </tbody>\n",
       "</table>\n",
       "</div>"
      ],
      "text/plain": [
       "                                                    funded_amnt\n",
       "loan_status                                                    \n",
       "Charged Off                                              0.0845\n",
       "Current                                                  0.5540\n",
       "Default                                                  0.0000\n",
       "Does not meet the credit policy. Status:Charged...       0.0006\n",
       "Does not meet the credit policy. Status:Fully Paid       0.0015\n",
       "Fully Paid                                               0.3341\n",
       "In Grace Period                                          0.0078\n",
       "Late (16-30 days)                                        0.0032\n",
       "Late (31-120 days)                                       0.0143"
      ]
     },
     "execution_count": 128,
     "metadata": {},
     "output_type": "execute_result"
    },
    {
     "data": {
      "image/png": "[encoded data removed]",
      "text/plain": [
       "<matplotlib.figure.Figure at 0x20c0c6761d0>"
      ]
     },
     "metadata": {},
     "output_type": "display_data"
    }
   ],
   "source": [
    "pd.options.display.float_format = '{:,.4f}'.format\n",
    "loan_statuses=loan_data[['funded_amnt','loan_status','risky_status']]\\\n",
    "                        .groupby('loan_status').agg({'funded_amnt':'count'})\n",
    "loan_statuses.plot(kind='bar')\n",
    "loan_statuses/loan_data.shape[0]"
   ]
  },
  {
   "cell_type": "markdown",
   "metadata": {},
   "source": [
    "Around 55% of the loans are in current state , 33% fully paid and the remaining loans are in the risky state (late or default or charged off)"
   ]
  },
  {
   "cell_type": "markdown",
   "metadata": {},
   "source": [
    "Let us analyze the interest rate variation with respect to the loan grades. Run the below code only once to convert the data type to float by removing the % symbol."
   ]
  },
  {
   "cell_type": "code",
   "execution_count": 55,
   "metadata": {
    "collapsed": true
   },
   "outputs": [],
   "source": [
    "loan_data['int_rate']=pd.Series(loan_data.int_rate).str.replace('%', '').astype(float)\n"
   ]
  },
  {
   "cell_type": "code",
   "execution_count": 56,
   "metadata": {
    "collapsed": false
   },
   "outputs": [
    {
     "data": {
      "text/html": [
       "<div>\n",
       "<table border=\"1\" class=\"dataframe\">\n",
       "  <thead>\n",
       "    <tr style=\"text-align: right;\">\n",
       "      <th></th>\n",
       "      <th>max_int</th>\n",
       "      <th>min_int</th>\n",
       "      <th>median_int</th>\n",
       "      <th>0.1quant</th>\n",
       "      <th>0.25quant</th>\n",
       "      <th>0.75quant</th>\n",
       "      <th>0.9quant</th>\n",
       "    </tr>\n",
       "  </thead>\n",
       "  <tbody>\n",
       "    <tr>\n",
       "      <th>A</th>\n",
       "      <td>9.6300</td>\n",
       "      <td>5.3200</td>\n",
       "      <td>7.2600</td>\n",
       "      <td>5.3200</td>\n",
       "      <td>6.4900</td>\n",
       "      <td>7.8900</td>\n",
       "      <td>8.3900</td>\n",
       "    </tr>\n",
       "    <tr>\n",
       "      <th>B</th>\n",
       "      <td>14.0900</td>\n",
       "      <td>6.0000</td>\n",
       "      <td>10.7800</td>\n",
       "      <td>8.6700</td>\n",
       "      <td>9.4900</td>\n",
       "      <td>11.4900</td>\n",
       "      <td>12.3500</td>\n",
       "    </tr>\n",
       "    <tr>\n",
       "      <th>C</th>\n",
       "      <td>17.2700</td>\n",
       "      <td>6.0000</td>\n",
       "      <td>13.9800</td>\n",
       "      <td>12.2900</td>\n",
       "      <td>12.9900</td>\n",
       "      <td>14.6500</td>\n",
       "      <td>15.5900</td>\n",
       "    </tr>\n",
       "    <tr>\n",
       "      <th>D</th>\n",
       "      <td>21.4900</td>\n",
       "      <td>6.0000</td>\n",
       "      <td>17.5700</td>\n",
       "      <td>15.6100</td>\n",
       "      <td>16.5500</td>\n",
       "      <td>18.2500</td>\n",
       "      <td>19.4700</td>\n",
       "    </tr>\n",
       "    <tr>\n",
       "      <th>E</th>\n",
       "      <td>26.2400</td>\n",
       "      <td>6.0000</td>\n",
       "      <td>20.4900</td>\n",
       "      <td>18.2500</td>\n",
       "      <td>18.9900</td>\n",
       "      <td>21.9700</td>\n",
       "      <td>23.1000</td>\n",
       "    </tr>\n",
       "    <tr>\n",
       "      <th>F</th>\n",
       "      <td>30.7400</td>\n",
       "      <td>6.0000</td>\n",
       "      <td>24.0800</td>\n",
       "      <td>21.9900</td>\n",
       "      <td>23.1300</td>\n",
       "      <td>25.0900</td>\n",
       "      <td>26.4900</td>\n",
       "    </tr>\n",
       "    <tr>\n",
       "      <th>G</th>\n",
       "      <td>30.9900</td>\n",
       "      <td>6.0000</td>\n",
       "      <td>26.0600</td>\n",
       "      <td>24.7000</td>\n",
       "      <td>25.8000</td>\n",
       "      <td>28.1800</td>\n",
       "      <td>28.9900</td>\n",
       "    </tr>\n",
       "  </tbody>\n",
       "</table>\n",
       "</div>"
      ],
      "text/plain": [
       "   max_int  min_int  median_int  0.1quant  0.25quant  0.75quant  0.9quant\n",
       "A   9.6300   5.3200      7.2600    5.3200     6.4900     7.8900    8.3900\n",
       "B  14.0900   6.0000     10.7800    8.6700     9.4900    11.4900   12.3500\n",
       "C  17.2700   6.0000     13.9800   12.2900    12.9900    14.6500   15.5900\n",
       "D  21.4900   6.0000     17.5700   15.6100    16.5500    18.2500   19.4700\n",
       "E  26.2400   6.0000     20.4900   18.2500    18.9900    21.9700   23.1000\n",
       "F  30.7400   6.0000     24.0800   21.9900    23.1300    25.0900   26.4900\n",
       "G  30.9900   6.0000     26.0600   24.7000    25.8000    28.1800   28.9900"
      ]
     },
     "execution_count": 56,
     "metadata": {},
     "output_type": "execute_result"
    },
    {
     "data": {
      "image/png": "[encoded data removed]",
      "text/plain": [
       "<matplotlib.figure.Figure at 0x20c0446fb00>"
      ]
     },
     "metadata": {},
     "output_type": "display_data"
    }
   ],
   "source": [
    "grouped=loan_data[['int_rate','grade']].groupby('grade')#.quantile(0.1)\n",
    "int_rates=pd.DataFrame(index=['A','B','C','D','E','F','G'])\n",
    "#int_rates['median_int']=pd.Series(grouped.quantile(0.5)['int_rate'])\n",
    "#int_rates['0.1quant']=pd.Series(grouped.quantile(0.1)['int_rate'])\n",
    "#int_rates['0.25quant']=pd.Series(grouped.quantile(0.25)['int_rate'])\n",
    "int_rates['max_int']=grouped.max()\n",
    "int_rates['min_int']=grouped.min()\n",
    "int_rates['median_int']=grouped.median()\n",
    "int_rates['0.1quant']=grouped.quantile(0.1)\n",
    "int_rates['0.25quant']=grouped.quantile(0.25)\n",
    "int_rates['0.75quant']=grouped.quantile(0.75)\n",
    "int_rates['0.9quant']=grouped.quantile(0.9)\n",
    "\n",
    "\n",
    "fig,axs=plt.subplots(ncols=1,figsize=(10,8))\n",
    "int_rates.T.plot(kind='box',ax=axs)\n",
    "int_rates"
   ]
  },
  {
   "cell_type": "markdown",
   "metadata": {},
   "source": [
    "From above plots ,we can see the variation of interest rates with loan grades and interest rates for grade G could even reach 30% where as for grade A, it has never crossed 10%."
   ]
  },
  {
   "cell_type": "code",
   "execution_count": 58,
   "metadata": {
    "collapsed": false
   },
   "outputs": [
    {
     "data": {
      "text/plain": [
       "<matplotlib.axes._subplots.AxesSubplot at 0x20c0b1fd2b0>"
      ]
     },
     "execution_count": 58,
     "metadata": {},
     "output_type": "execute_result"
    },
    {
     "data": {
      "image/png": "[encoded data removed]",
      "text/plain": [
       "<matplotlib.figure.Figure at 0x20c00e38668>"
      ]
     },
     "metadata": {},
     "output_type": "display_data"
    }
   ],
   "source": [
    "grouped_dti=loan_data[loan_data.dti<100][['dti','grade']].groupby('grade')\n",
    "dti=pd.DataFrame(index=['A','B','C','D','E','F','G'])\n",
    "dti['max']=grouped_dti.max()\n",
    "dti['min']=grouped_dti.min()\n",
    "dti['median']=grouped_dti.median()\n",
    "dti['0.1q']=grouped_dti.quantile(0.1)\n",
    "dti['0.25q']=grouped_dti.quantile(0.25)\n",
    "dti['0.75q']=grouped_dti.quantile(0.75)\n",
    "dti['0.9q']=grouped_dti.quantile(0.9)\n",
    "\n",
    "fig,axs=plt.subplots(ncols=1,figsize=(10,8))\n",
    "dti.T.plot(kind='box',ax=axs)\n"
   ]
  },
  {
   "cell_type": "markdown",
   "metadata": {},
   "source": [
    "There are 73 rows in the years 2015 and 2016 where the dti is more than 1000. These would require further investigation  as they could be some masking attempts but as of now am ignoring them as outliers. I am restricting the maximum dti to 100 . From the graph , there seems to be a slightly increasing trend of dti across grades."
   ]
  },
  {
   "cell_type": "code",
   "execution_count": 16,
   "metadata": {
    "collapsed": false
   },
   "outputs": [
    {
     "name": "stdout",
     "output_type": "stream",
     "text": [
      "CA    187415\n",
      "NY    109594\n",
      "TX    108175\n",
      "FL     92668\n",
      "IL     53192\n",
      "NJ     49149\n",
      "PA     45895\n",
      "OH     44631\n",
      "GA     43547\n",
      "VA     37944\n",
      "Name: addr_state, dtype: int64\n"
     ]
    }
   ],
   "source": [
    "print (loan_data['addr_state'].value_counts()[:10])"
   ]
  },
  {
   "cell_type": "code",
   "execution_count": 17,
   "metadata": {
    "collapsed": false
   },
   "outputs": [
    {
     "name": "stdout",
     "output_type": "stream",
     "text": [
      "CA    1357999\n",
      "TX     980237\n",
      "NY     852543\n",
      "FL     848734\n",
      "PA     422871\n",
      "GA     415387\n",
      "IL     406951\n",
      "OH     402379\n",
      "NJ     348729\n",
      "NC     346193\n",
      "Name: State, dtype: int64\n"
     ]
    }
   ],
   "source": [
    "print (reject_data.State.value_counts()[:10])"
   ]
  },
  {
   "cell_type": "markdown",
   "metadata": {},
   "source": [
    "From both the above cells , it looks like CA,TX,NY,FL appear in top approved and rejected loans. There does not look like to be any state bias but we can decide while selecting features."
   ]
  },
  {
   "cell_type": "code",
   "execution_count": 18,
   "metadata": {
    "collapsed": false
   },
   "outputs": [
    {
     "data": {
      "text/plain": [
       "Current                                               4348\n",
       "Fully Paid                                            1736\n",
       "Charged Off                                            563\n",
       "Late (31-120 days)                                     133\n",
       "In Grace Period                                         63\n",
       "Late (16-30 days)                                       30\n",
       "Does not meet the credit policy. Status:Fully Paid       4\n",
       "Default                                                  1\n",
       "Name: loan_status, dtype: int64"
      ]
     },
     "execution_count": 18,
     "metadata": {},
     "output_type": "execute_result"
    }
   ],
   "source": [
    "loan_data[loan_data.acc_now_delinq>0]['loan_status'].value_counts()"
   ]
  },
  {
   "cell_type": "markdown",
   "metadata": {},
   "source": [
    "Lot of current loans seem to have high debt to income ratio , previous delinquency ratio etc., "
   ]
  },
  {
   "cell_type": "code",
   "execution_count": 19,
   "metadata": {
    "collapsed": false
   },
   "outputs": [
    {
     "data": {
      "text/plain": [
       "funded_amnt        19,482,988,375.0000\n",
       "out_prncp_inv       7,890,055,415.9700\n",
       "prnc_charged_off      915,332,228.5119\n",
       "total_pymnt        13,305,623,897.1425\n",
       "total_rec_int       2,898,599,666.0900\n",
       "total_rec_prncp    10,298,155,825.0396\n",
       "recoveries            108,036,010.6630\n",
       "dtype: float64"
      ]
     },
     "execution_count": 19,
     "metadata": {},
     "output_type": "execute_result"
    }
   ],
   "source": [
    "\n",
    "\n",
    "#loan_data[loan_data.risky_status==1][['funded_amnt','total_pymnt','out_prncp','grade','prnc_charged_off']].groupby('grade').sum().plot(kind='bar')\n",
    "loan_sub=loan_data[['loan_status','funded_amnt','out_prncp_inv','prnc_charged_off','total_pymnt','total_rec_int','total_rec_prncp','recoveries','issue_d','term','grade']]\n",
    "loan_sub.groupby('grade').sum().sum()"
   ]
  },
  {
   "cell_type": "code",
   "execution_count": 130,
   "metadata": {
    "collapsed": false
   },
   "outputs": [
    {
     "data": {
      "text/plain": [
       "<matplotlib.axes._subplots.AxesSubplot at 0x20c0c676f60>"
      ]
     },
     "execution_count": 130,
     "metadata": {},
     "output_type": "execute_result"
    },
    {
     "data": {
      "image/png": "[encoded data removed]",
      "text/plain": [
       "<matplotlib.figure.Figure at 0x20c11d28f60>"
      ]
     },
     "metadata": {},
     "output_type": "display_data"
    }
   ],
   "source": [
    "\n",
    "\n",
    "#loan_data['total_prncp_inc_recovery']=loan_data['total_rec_prncp']+loan_data['recoveries']+loan_data['']\n",
    "\n",
    "loan_amt_by_grade=loan_data[['issue_d','loan_amnt','funded_amnt','grade','total_pymnt']].groupby('grade').agg({'funded_amnt':'sum','total_pymnt':'sum'})\n",
    "\n",
    "loan_amt_by_grade.plot(kind='bar')\n"
   ]
  },
  {
   "cell_type": "markdown",
   "metadata": {},
   "source": [
    "There is an attribute Chargeoff_within_12_mths . This indicates that despite being a defaulter in the last two months , people got funded for a loan again. Let us analyze to see if it is useful to predict loan defaults."
   ]
  },
  {
   "cell_type": "code",
   "execution_count": 134,
   "metadata": {
    "collapsed": false
   },
   "outputs": [
    {
     "data": {
      "text/plain": [
       "<matplotlib.axes._subplots.AxesSubplot at 0x20c11c02860>"
      ]
     },
     "execution_count": 134,
     "metadata": {},
     "output_type": "execute_result"
    },
    {
     "data": {
      "image/png": "[encoded data removed]",
      "text/plain": [
       "<matplotlib.figure.Figure at 0x20c11c5c390>"
      ]
     },
     "metadata": {},
     "output_type": "display_data"
    }
   ],
   "source": [
    "loan_after_chargeoff=loan_data[(loan_data.chargeoff_within_12_mths>1) ][['issue_d','funded_amnt','term','int_rate'\n",
    "                                                 ,'grade','chargeoff_within_12_mths'\n",
    "                                                 ,'total_rec_prncp'\n",
    "                                                 ,'total_pymnt'\n",
    "                                                 ,'loan_status'\n",
    "                                                 ,'collection_recovery_fee'\n",
    "                                                 ,'collections_12_mths_ex_med'\n",
    "                                                ]]\n",
    "\n",
    "fig_12mthchrgoff,axs_12mthchrgoff=plt.subplots(ncols=2,figsize=(15,6))\n",
    "loan_after_chargeoff.issue_d.value_counts(sort=True,ascending=True).plot(ax=axs_12mthchrgoff[0])\n",
    "loan_after_chargeoff.loan_status.value_counts().plot(kind='bar',ax=axs_12mthchrgoff[1])"
   ]
  },
  {
   "cell_type": "markdown",
   "metadata": {},
   "source": [
    "Above table indicates that there are 949 cases since 2012 where borrowers had charged off more than once yet they did receive loans again. Though these are relatively less compared to the actual funded loans ,we can still see an increasing trend amongst these. Since majority of these were funded during 2015-2016 , they are still current but a lot of them are Fully paid. So we can't really say if there a strong relation with loan defaults."
   ]
  },
  {
   "cell_type": "code",
   "execution_count": 23,
   "metadata": {
    "collapsed": false
   },
   "outputs": [
    {
     "data": {
      "text/plain": [
       "debt_consolidation    773152\n",
       "credit_card           297803\n",
       "home_improvement       83016\n",
       "other                  71365\n",
       "major_purchase         27683\n",
       "small_business         15168\n",
       "medical                13981\n",
       "car                    13677\n",
       "moving                  8644\n",
       "vacation                7998\n",
       "house                   5709\n",
       "wedding                 2349\n",
       "renewable_energy         879\n",
       "educational              423\n",
       "Name: purpose, dtype: int64"
      ]
     },
     "execution_count": 23,
     "metadata": {},
     "output_type": "execute_result"
    }
   ],
   "source": [
    "loan_data.purpose.value_counts()\n"
   ]
  },
  {
   "cell_type": "markdown",
   "metadata": {},
   "source": [
    "We can see that debt consolidation and credit card dominate the originated loans"
   ]
  },
  {
   "cell_type": "markdown",
   "metadata": {},
   "source": [
    "## Feature selection for the loan status prediction task:\n"
   ]
  },
  {
   "cell_type": "code",
   "execution_count": 143,
   "metadata": {
    "collapsed": false
   },
   "outputs": [
    {
     "data": {
      "text/html": [
       "<div>\n",
       "<table border=\"1\" class=\"dataframe\">\n",
       "  <thead>\n",
       "    <tr style=\"text-align: right;\">\n",
       "      <th></th>\n",
       "      <th>loan_amnt</th>\n",
       "      <th>funded_amnt</th>\n",
       "      <th>funded_amnt_inv</th>\n",
       "      <th>term</th>\n",
       "      <th>int_rate</th>\n",
       "      <th>installment</th>\n",
       "      <th>grade</th>\n",
       "      <th>sub_grade</th>\n",
       "      <th>emp_title</th>\n",
       "      <th>emp_length</th>\n",
       "      <th>...</th>\n",
       "      <th>pct_tl_nvr_dlq</th>\n",
       "      <th>percent_bc_gt_75</th>\n",
       "      <th>pub_rec_bankruptcies</th>\n",
       "      <th>tax_liens</th>\n",
       "      <th>tot_hi_cred_lim</th>\n",
       "      <th>total_bal_ex_mort</th>\n",
       "      <th>total_bc_limit</th>\n",
       "      <th>total_il_high_credit_limit</th>\n",
       "      <th>risky_status</th>\n",
       "      <th>prnc_charged_off</th>\n",
       "    </tr>\n",
       "  </thead>\n",
       "  <tbody>\n",
       "  </tbody>\n",
       "</table>\n",
       "<p>0 rows × 111 columns</p>\n",
       "</div>"
      ],
      "text/plain": [
       "Empty DataFrame\n",
       "Columns: [loan_amnt, funded_amnt, funded_amnt_inv, term, int_rate, installment, grade, sub_grade, emp_title, emp_length, home_ownership, annual_inc, verification_status, issue_d, loan_status, pymnt_plan, url, desc, purpose, title, zip_code, addr_state, dti, delinq_2yrs, earliest_cr_line, inq_last_6mths, mths_since_last_delinq, mths_since_last_record, open_acc, pub_rec, revol_bal, revol_util, total_acc, initial_list_status, out_prncp, out_prncp_inv, total_pymnt, total_pymnt_inv, total_rec_prncp, total_rec_int, total_rec_late_fee, recoveries, collection_recovery_fee, last_pymnt_d, last_pymnt_amnt, next_pymnt_d, last_credit_pull_d, collections_12_mths_ex_med, mths_since_last_major_derog, policy_code, application_type, annual_inc_joint, dti_joint, verification_status_joint, acc_now_delinq, tot_coll_amt, tot_cur_bal, open_acc_6m, open_il_6m, open_il_12m, open_il_24m, mths_since_rcnt_il, total_bal_il, il_util, open_rv_12m, open_rv_24m, max_bal_bc, all_util, total_rev_hi_lim, inq_fi, total_cu_tl, inq_last_12m, acc_open_past_24mths, avg_cur_bal, bc_open_to_buy, bc_util, chargeoff_within_12_mths, delinq_amnt, mo_sin_old_il_acct, mo_sin_old_rev_tl_op, mo_sin_rcnt_rev_tl_op, mo_sin_rcnt_tl, mort_acc, mths_since_recent_bc, mths_since_recent_bc_dlq, mths_since_recent_inq, mths_since_recent_revol_delinq, num_accts_ever_120_pd, num_actv_bc_tl, num_actv_rev_tl, num_bc_sats, num_bc_tl, num_il_tl, num_op_rev_tl, num_rev_accts, num_rev_tl_bal_gt_0, num_sats, num_tl_120dpd_2m, num_tl_30dpd, num_tl_90g_dpd_24m, ...]\n",
       "Index: []\n",
       "\n",
       "[0 rows x 111 columns]"
      ]
     },
     "execution_count": 143,
     "metadata": {},
     "output_type": "execute_result"
    }
   ],
   "source": [
    "loan_data[~loan_data.grade.isin(['A','B','C','D','E','F','G'])]"
   ]
  },
  {
   "cell_type": "code",
   "execution_count": 146,
   "metadata": {
    "collapsed": false,
    "scrolled": true
   },
   "outputs": [],
   "source": [
    "labels=loan_data.loan_status.as_matrix()\n",
    "\n",
    "from sklearn import preprocessing\n",
    "lenc=preprocessing.LabelEncoder()\n",
    "\n",
    "\n",
    "lenc.fit(['A','B','C','D','E','F','G'])\n",
    "loan_data['grade_enc']=loan_data.grade.map({'A':7,'B':6,'C':5,'D':4,'E':3,'F':2,'G':1})\n",
    "loan_data.grade_enc;\n",
    "\n"
   ]
  },
  {
   "cell_type": "code",
   "execution_count": 68,
   "metadata": {
    "collapsed": false
   },
   "outputs": [],
   "source": [
    "lenc.fit(loan_data.home_ownership.unique())\n",
    "loan_data['home_own_enc']=lenc.transform(loan_data.home_ownership)\n",
    "loan_data.home_own_enc;"
   ]
  },
  {
   "cell_type": "code",
   "execution_count": 69,
   "metadata": {
    "collapsed": false
   },
   "outputs": [],
   "source": [
    "lenc.fit(loan_data.addr_state.unique())\n",
    "loan_data['state_enc']=lenc.transform(loan_data.addr_state)\n",
    "loan_data.state_enc;"
   ]
  },
  {
   "cell_type": "code",
   "execution_count": 70,
   "metadata": {
    "collapsed": false
   },
   "outputs": [],
   "source": [
    "lenc.fit(loan_data.term.unique())\n",
    "loan_data['term_enc']=lenc.transform(loan_data.term)\n",
    "loan_data.term_enc;"
   ]
  },
  {
   "cell_type": "code",
   "execution_count": 71,
   "metadata": {
    "collapsed": false
   },
   "outputs": [
    {
     "data": {
      "text/plain": [
       "array([10,  1,  3,  8,  9,  4,  5,  6,  2,  7,  0], dtype=int64)"
      ]
     },
     "execution_count": 71,
     "metadata": {},
     "output_type": "execute_result"
    }
   ],
   "source": [
    "loan_data['emp_length']=loan_data['emp_length'].str.replace('year|\\+|<|s| ','')\n",
    "loan_data['emp_length']=loan_data['emp_length'].str.replace('n/a','0')\n",
    "loan_data['emp_length']=loan_data.emp_length.astype(int)\n",
    "loan_data.emp_length.unique()"
   ]
  },
  {
   "cell_type": "code",
   "execution_count": 72,
   "metadata": {
    "collapsed": false
   },
   "outputs": [
    {
     "data": {
      "text/plain": [
       "funded_amnt                    float64\n",
       "issue_d                          int64\n",
       "acc_now_delinq                 float64\n",
       "state_enc                        int64\n",
       "annual_inc                     float64\n",
       "chargeoff_within_12_mths         int32\n",
       "delinq_2yrs                    float64\n",
       "delinq_amnt                    float64\n",
       "dti                            float64\n",
       "emp_length                       int32\n",
       "grade_enc                        int64\n",
       "home_own_enc                     int64\n",
       "inq_last_6mths                 float64\n",
       "inq_last_12m                   float64\n",
       "int_rate                       float64\n",
       "issue_d                          int64\n",
       "mort_acc                       float64\n",
       "mths_since_last_delinq         float64\n",
       "mths_since_last_major_derog    float64\n",
       "num_accts_ever_120_pd          float64\n",
       "pct_tl_nvr_dlq                 float64\n",
       "pub_rec_bankruptcies           float64\n",
       "term_enc                         int64\n",
       "total_acc                      float64\n",
       "dtype: object"
      ]
     },
     "execution_count": 72,
     "metadata": {},
     "output_type": "execute_result"
    }
   ],
   "source": [
    "loan_data[['funded_amnt','issue_d','acc_now_delinq','state_enc','annual_inc','chargeoff_within_12_mths'\\\n",
    "                   ,'delinq_2yrs','delinq_amnt','dti','emp_length','grade_enc','home_own_enc','inq_last_6mths','inq_last_12m'\\\n",
    "                   ,'int_rate','issue_d','mort_acc','mths_since_last_delinq'\n",
    "                   ,'mths_since_last_major_derog','num_accts_ever_120_pd','pct_tl_nvr_dlq','pub_rec_bankruptcies',\\\n",
    "                   'term_enc','total_acc']].dtypes"
   ]
  },
  {
   "cell_type": "code",
   "execution_count": 80,
   "metadata": {
    "collapsed": false
   },
   "outputs": [
    {
     "name": "stdout",
     "output_type": "stream",
     "text": [
      "<class 'pandas.core.frame.DataFrame'>\n",
      "Index: 1 entries, A to A\n",
      "Empty DataFrame"
     ]
    }
   ],
   "source": [
    "loan_data.drop('loan_status',inplace=True,axis=1)\n",
    "reject_data=pd.DataFrame(index=['A'])\n",
    "reject_data.info()\n"
   ]
  },
  {
   "cell_type": "code",
   "execution_count": 81,
   "metadata": {
    "collapsed": false
   },
   "outputs": [],
   "source": [
    "feature_array=['funded_amnt','acc_now_delinq','state_enc','annual_inc','chargeoff_within_12_mths'\\\n",
    "                   ,'delinq_2yrs','delinq_amnt','dti','emp_length','grade_enc','home_own_enc','inq_last_6mths','inq_last_12m'\\\n",
    "                   ,'int_rate','issue_d','mort_acc','mths_since_last_delinq'\n",
    "                   ,'mths_since_last_major_derog','num_accts_ever_120_pd','pct_tl_nvr_dlq','pub_rec_bankruptcies',\\\n",
    "                   'term_enc','total_acc']\n",
    "for feature in feature_array:\n",
    "    loan_data[feature]=loan_data[feature].fillna(0)\n"
   ]
  },
  {
   "cell_type": "code",
   "execution_count": 98,
   "metadata": {
    "collapsed": false
   },
   "outputs": [
    {
     "data": {
      "text/plain": [
       "array([[  5.00000000e+03,   0.00000000e+00,   3.00000000e+00, ...,\n",
       "          0.00000000e+00,   0.00000000e+00,   9.00000000e+00],\n",
       "       [  2.50000000e+03,   0.00000000e+00,   1.00000000e+01, ...,\n",
       "          0.00000000e+00,   1.00000000e+00,   4.00000000e+00],\n",
       "       [  2.40000000e+03,   0.00000000e+00,   1.40000000e+01, ...,\n",
       "          0.00000000e+00,   0.00000000e+00,   1.00000000e+01],\n",
       "       ..., \n",
       "       [  4.00000000e+04,   0.00000000e+00,   4.00000000e+00, ...,\n",
       "          0.00000000e+00,   1.00000000e+00,   3.70000000e+01],\n",
       "       [  2.40000000e+04,   0.00000000e+00,   9.00000000e+00, ...,\n",
       "          1.00000000e+00,   1.00000000e+00,   3.10000000e+01],\n",
       "       [  1.40000000e+04,   0.00000000e+00,   4.30000000e+01, ...,\n",
       "          0.00000000e+00,   1.00000000e+00,   2.20000000e+01]])"
      ]
     },
     "execution_count": 98,
     "metadata": {},
     "output_type": "execute_result"
    }
   ],
   "source": [
    "features=loan_data[['funded_amnt','acc_now_delinq','state_enc','annual_inc','chargeoff_within_12_mths'\\\n",
    "                   ,'delinq_2yrs','delinq_amnt','dti','emp_length','grade_enc','home_own_enc','inq_last_6mths','inq_last_12m'\\\n",
    "                   ,'int_rate','issue_d','mort_acc','mths_since_last_delinq'\n",
    "                   ,'mths_since_last_major_derog','num_accts_ever_120_pd','pct_tl_nvr_dlq','pub_rec_bankruptcies',\\\n",
    "                   'term_enc','total_acc']]\n",
    "features.values"
   ]
  },
  {
   "cell_type": "code",
   "execution_count": 83,
   "metadata": {
    "collapsed": false
   },
   "outputs": [
    {
     "data": {
      "text/plain": [
       "funded_amnt                    float64\n",
       "acc_now_delinq                 float64\n",
       "state_enc                        int64\n",
       "annual_inc                     float64\n",
       "chargeoff_within_12_mths         int32\n",
       "delinq_2yrs                    float64\n",
       "delinq_amnt                    float64\n",
       "dti                            float64\n",
       "emp_length                       int32\n",
       "grade_enc                        int64\n",
       "home_own_enc                     int64\n",
       "inq_last_6mths                 float64\n",
       "inq_last_12m                   float64\n",
       "int_rate                       float64\n",
       "issue_d                          int64\n",
       "mort_acc                       float64\n",
       "mths_since_last_delinq         float64\n",
       "mths_since_last_major_derog    float64\n",
       "num_accts_ever_120_pd          float64\n",
       "pct_tl_nvr_dlq                 float64\n",
       "pub_rec_bankruptcies           float64\n",
       "term_enc                         int64\n",
       "total_acc                      float64\n",
       "dtype: object"
      ]
     },
     "execution_count": 83,
     "metadata": {},
     "output_type": "execute_result"
    }
   ],
   "source": [
    "features.dtypes"
   ]
  },
  {
   "cell_type": "code",
   "execution_count": 86,
   "metadata": {
    "collapsed": false
   },
   "outputs": [
    {
     "data": {
      "text/plain": [
       "array([  0.00000000e+000,   4.14775681e-048,   5.10626565e-100,\n",
       "         0.00000000e+000,   4.83770582e-015,   0.00000000e+000,\n",
       "         5.20850921e-008,   9.21318285e-104,   4.87783222e-205,\n",
       "         0.00000000e+000,   0.00000000e+000,   0.00000000e+000,\n",
       "         0.00000000e+000,   0.00000000e+000,   0.00000000e+000,\n",
       "         0.00000000e+000,   1.69235318e-144,   0.00000000e+000,\n",
       "         0.00000000e+000,   0.00000000e+000,   6.32971824e-074,\n",
       "         0.00000000e+000,   0.00000000e+000])"
      ]
     },
     "execution_count": 86,
     "metadata": {},
     "output_type": "execute_result"
    }
   ],
   "source": [
    "import numpy as np\n",
    "from sklearn.feature_selection import SelectKBest\n",
    "from sklearn.feature_selection import f_classif\n",
    "\n",
    "selector=SelectKBest(f_classif,k=20)\n",
    "features_new=selector.fit_transform(features,labels)\n",
    "scores=selector.pvalues_\n",
    "scores\n",
    "\n"
   ]
  },
  {
   "cell_type": "code",
   "execution_count": 100,
   "metadata": {
    "collapsed": false
   },
   "outputs": [
    {
     "data": {
      "text/plain": [
       "array([ 0.25697891,  0.25443219,  0.26003388,  0.25211746,  0.2457168 ])"
      ]
     },
     "execution_count": 100,
     "metadata": {},
     "output_type": "execute_result"
    }
   ],
   "source": [
    "from sklearn.tree import DecisionTreeClassifier\n",
    "from sklearn.model_selection import train_test_split\n",
    "from sklearn.model_selection import cross_val_score\n",
    "\n",
    "clf=DecisionTreeClassifier()\n",
    "\n",
    "features_train,features_test,labels_train,labels_test=train_test_split(features_new,labels,test_size=0.25,random_state=42)\n",
    "\n",
    "scores=cross_val_score(clf,features_train,labels_train,cv=5,scoring='f1_macro')\n",
    "scores\n"
   ]
  }
 ],
 "metadata": {
  "kernelspec": {
   "display_name": "Python 3",
   "language": "python",
   "name": "python3"
  },
  "language_info": {
   "codemirror_mode": {
    "name": "ipython",
    "version": 3
   },
   "file_extension": ".py",
   "mimetype": "text/x-python",
   "name": "python",
   "nbconvert_exporter": "python",
   "pygments_lexer": "ipython3",
   "version": "3.6.0"
  }
 },
 "nbformat": 4,
 "nbformat_minor": 2
}
